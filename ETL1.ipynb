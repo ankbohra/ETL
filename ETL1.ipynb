{
 "cells": [
  {
   "cell_type": "code",
   "execution_count": 1,
   "metadata": {},
   "outputs": [],
   "source": [
    "import pandas as pd \n"
   ]
  },
  {
   "cell_type": "code",
   "execution_count": 2,
   "metadata": {},
   "outputs": [
    {
     "output_type": "execute_result",
     "data": {
      "text/plain": "                         Location  Diversity-Index  \\\n0  Aleutians West Census Area, AK         0.769346   \n1               Queens County, NY         0.742224   \n2                 Maui County, HI         0.740757   \n3              Alameda County, CA         0.740399   \n4      Aleutians East Borough, AK         0.738867   \n\n   Black or African American alone, percent, 2013  \\\n0                                             7.4   \n1                                            20.9   \n2                                             0.8   \n3                                            12.4   \n4                                             7.7   \n\n   American Indian and Alaska Native alone, percent, 2013  \\\n0                                               13.8        \n1                                                1.3        \n2                                                0.6        \n3                                                1.2        \n4                                               21.8        \n\n   Asian alone, percent, 2013  \\\n0                        31.1   \n1                        25.2   \n2                        28.8   \n3                        28.2   \n4                        41.4   \n\n   Native Hawaiian and Other Pacific Islander alone, percent,  \\\n0                                                2.3            \n1                                                0.2            \n2                                               10.6            \n3                                                1.0            \n4                                                0.7            \n\n   Two or More Races, percent, 2013  Hispanic or Latino, percent, 2013  \\\n0                               4.8                               14.6   \n1                               2.7                               28.0   \n2                              23.3                               10.7   \n3                               5.2                               22.7   \n4                               3.7                               13.5   \n\n   White alone, not Hispanic or Latino, percent, 2013  \n0                                               29.2   \n1                                               26.7   \n2                                               31.5   \n3                                               33.2   \n4                                               12.9   ",
      "text/html": "<div>\n<style scoped>\n    .dataframe tbody tr th:only-of-type {\n        vertical-align: middle;\n    }\n\n    .dataframe tbody tr th {\n        vertical-align: top;\n    }\n\n    .dataframe thead th {\n        text-align: right;\n    }\n</style>\n<table border=\"1\" class=\"dataframe\">\n  <thead>\n    <tr style=\"text-align: right;\">\n      <th></th>\n      <th>Location</th>\n      <th>Diversity-Index</th>\n      <th>Black or African American alone, percent, 2013</th>\n      <th>American Indian and Alaska Native alone, percent, 2013</th>\n      <th>Asian alone, percent, 2013</th>\n      <th>Native Hawaiian and Other Pacific Islander alone, percent,</th>\n      <th>Two or More Races, percent, 2013</th>\n      <th>Hispanic or Latino, percent, 2013</th>\n      <th>White alone, not Hispanic or Latino, percent, 2013</th>\n    </tr>\n  </thead>\n  <tbody>\n    <tr>\n      <th>0</th>\n      <td>Aleutians West Census Area, AK</td>\n      <td>0.769346</td>\n      <td>7.4</td>\n      <td>13.8</td>\n      <td>31.1</td>\n      <td>2.3</td>\n      <td>4.8</td>\n      <td>14.6</td>\n      <td>29.2</td>\n    </tr>\n    <tr>\n      <th>1</th>\n      <td>Queens County, NY</td>\n      <td>0.742224</td>\n      <td>20.9</td>\n      <td>1.3</td>\n      <td>25.2</td>\n      <td>0.2</td>\n      <td>2.7</td>\n      <td>28.0</td>\n      <td>26.7</td>\n    </tr>\n    <tr>\n      <th>2</th>\n      <td>Maui County, HI</td>\n      <td>0.740757</td>\n      <td>0.8</td>\n      <td>0.6</td>\n      <td>28.8</td>\n      <td>10.6</td>\n      <td>23.3</td>\n      <td>10.7</td>\n      <td>31.5</td>\n    </tr>\n    <tr>\n      <th>3</th>\n      <td>Alameda County, CA</td>\n      <td>0.740399</td>\n      <td>12.4</td>\n      <td>1.2</td>\n      <td>28.2</td>\n      <td>1.0</td>\n      <td>5.2</td>\n      <td>22.7</td>\n      <td>33.2</td>\n    </tr>\n    <tr>\n      <th>4</th>\n      <td>Aleutians East Borough, AK</td>\n      <td>0.738867</td>\n      <td>7.7</td>\n      <td>21.8</td>\n      <td>41.4</td>\n      <td>0.7</td>\n      <td>3.7</td>\n      <td>13.5</td>\n      <td>12.9</td>\n    </tr>\n  </tbody>\n</table>\n</div>"
     },
     "metadata": {},
     "execution_count": 2
    }
   ],
   "source": [
    "diversity_csv = \"Resources/diversityindex.csv\"\n",
    "diversity_df = pd.read_csv(diversity_csv)\n",
    "diversity_df.head()"
   ]
  },
  {
   "cell_type": "code",
   "execution_count": 3,
   "metadata": {},
   "outputs": [],
   "source": [
    "new_df = diversity_df"
   ]
  },
  {
   "cell_type": "code",
   "execution_count": 4,
   "metadata": {},
   "outputs": [
    {
     "output_type": "execute_result",
     "data": {
      "text/plain": "                         Location  Diversity-Index  \\\n0  Aleutians West Census Area, AK         0.769346   \n1               Queens County, NY         0.742224   \n2                 Maui County, HI         0.740757   \n3              Alameda County, CA         0.740399   \n4      Aleutians East Borough, AK         0.738867   \n\n   Black or African American alone, percent, 2013  \\\n0                                             7.4   \n1                                            20.9   \n2                                             0.8   \n3                                            12.4   \n4                                             7.7   \n\n   American Indian and Alaska Native alone, percent, 2013  \\\n0                                               13.8        \n1                                                1.3        \n2                                                0.6        \n3                                                1.2        \n4                                               21.8        \n\n   Asian alone, percent, 2013  \\\n0                        31.1   \n1                        25.2   \n2                        28.8   \n3                        28.2   \n4                        41.4   \n\n   Native Hawaiian and Other Pacific Islander alone, percent,  \\\n0                                                2.3            \n1                                                0.2            \n2                                               10.6            \n3                                                1.0            \n4                                                0.7            \n\n   Two or More Races, percent, 2013  Hispanic or Latino, percent, 2013  \\\n0                               4.8                               14.6   \n1                               2.7                               28.0   \n2                              23.3                               10.7   \n3                               5.2                               22.7   \n4                               3.7                               13.5   \n\n   White alone, not Hispanic or Latino, percent, 2013  \\\n0                                               29.2    \n1                                               26.7    \n2                                               31.5    \n3                                               33.2    \n4                                               12.9    \n\n                       County State  \n0  Aleutians West Census Area    AK  \n1               Queens County    NY  \n2                 Maui County    HI  \n3              Alameda County    CA  \n4      Aleutians East Borough    AK  ",
      "text/html": "<div>\n<style scoped>\n    .dataframe tbody tr th:only-of-type {\n        vertical-align: middle;\n    }\n\n    .dataframe tbody tr th {\n        vertical-align: top;\n    }\n\n    .dataframe thead th {\n        text-align: right;\n    }\n</style>\n<table border=\"1\" class=\"dataframe\">\n  <thead>\n    <tr style=\"text-align: right;\">\n      <th></th>\n      <th>Location</th>\n      <th>Diversity-Index</th>\n      <th>Black or African American alone, percent, 2013</th>\n      <th>American Indian and Alaska Native alone, percent, 2013</th>\n      <th>Asian alone, percent, 2013</th>\n      <th>Native Hawaiian and Other Pacific Islander alone, percent,</th>\n      <th>Two or More Races, percent, 2013</th>\n      <th>Hispanic or Latino, percent, 2013</th>\n      <th>White alone, not Hispanic or Latino, percent, 2013</th>\n      <th>County</th>\n      <th>State</th>\n    </tr>\n  </thead>\n  <tbody>\n    <tr>\n      <th>0</th>\n      <td>Aleutians West Census Area, AK</td>\n      <td>0.769346</td>\n      <td>7.4</td>\n      <td>13.8</td>\n      <td>31.1</td>\n      <td>2.3</td>\n      <td>4.8</td>\n      <td>14.6</td>\n      <td>29.2</td>\n      <td>Aleutians West Census Area</td>\n      <td>AK</td>\n    </tr>\n    <tr>\n      <th>1</th>\n      <td>Queens County, NY</td>\n      <td>0.742224</td>\n      <td>20.9</td>\n      <td>1.3</td>\n      <td>25.2</td>\n      <td>0.2</td>\n      <td>2.7</td>\n      <td>28.0</td>\n      <td>26.7</td>\n      <td>Queens County</td>\n      <td>NY</td>\n    </tr>\n    <tr>\n      <th>2</th>\n      <td>Maui County, HI</td>\n      <td>0.740757</td>\n      <td>0.8</td>\n      <td>0.6</td>\n      <td>28.8</td>\n      <td>10.6</td>\n      <td>23.3</td>\n      <td>10.7</td>\n      <td>31.5</td>\n      <td>Maui County</td>\n      <td>HI</td>\n    </tr>\n    <tr>\n      <th>3</th>\n      <td>Alameda County, CA</td>\n      <td>0.740399</td>\n      <td>12.4</td>\n      <td>1.2</td>\n      <td>28.2</td>\n      <td>1.0</td>\n      <td>5.2</td>\n      <td>22.7</td>\n      <td>33.2</td>\n      <td>Alameda County</td>\n      <td>CA</td>\n    </tr>\n    <tr>\n      <th>4</th>\n      <td>Aleutians East Borough, AK</td>\n      <td>0.738867</td>\n      <td>7.7</td>\n      <td>21.8</td>\n      <td>41.4</td>\n      <td>0.7</td>\n      <td>3.7</td>\n      <td>13.5</td>\n      <td>12.9</td>\n      <td>Aleutians East Borough</td>\n      <td>AK</td>\n    </tr>\n  </tbody>\n</table>\n</div>"
     },
     "metadata": {},
     "execution_count": 4
    }
   ],
   "source": [
    "new_df['County'],new_df['State'] = diversity_df['Location'].str.rsplit(', ').str\n",
    "new_df.head()"
   ]
  },
  {
   "cell_type": "code",
   "execution_count": 5,
   "metadata": {},
   "outputs": [
    {
     "output_type": "execute_result",
     "data": {
      "text/plain": "                            Location  Diversity-Index  \\\n0     Aleutians West Census Area, AK         0.769346   \n1                  Queens County, NY         0.742224   \n2                    Maui County, HI         0.740757   \n3                 Alameda County, CA         0.740399   \n4         Aleutians East Borough, AK         0.738867   \n...                              ...              ...   \n3190                Osage County, MO         0.037540   \n3191              Lincoln County, WV         0.035585   \n3192               Leslie County, KY         0.035581   \n3193               Blaine County, NE         0.023784   \n3194            Keya Paha County, NE         0.021816   \n\n      Black or African American alone, percent, 2013  \\\n0                                                7.4   \n1                                               20.9   \n2                                                0.8   \n3                                               12.4   \n4                                                7.7   \n...                                              ...   \n3190                                             0.3   \n3191                                             0.2   \n3192                                             0.4   \n3193                                             0.2   \n3194                                             0.0   \n\n      American Indian and Alaska Native alone, percent, 2013  \\\n0                                                  13.8        \n1                                                   1.3        \n2                                                   0.6        \n3                                                   1.2        \n4                                                  21.8        \n...                                                 ...        \n3190                                                0.2        \n3191                                                0.1        \n3192                                                0.1        \n3193                                                0.0        \n3194                                                0.1        \n\n      Asian alone, percent, 2013  \\\n0                           31.1   \n1                           25.2   \n2                           28.8   \n3                           28.2   \n4                           41.4   \n...                          ...   \n3190                         0.1   \n3191                         0.1   \n3192                         0.2   \n3193                         0.0   \n3194                         0.1   \n\n      Native Hawaiian and Other Pacific Islander alone, percent,  \\\n0                                                   2.3            \n1                                                   0.2            \n2                                                  10.6            \n3                                                   1.0            \n4                                                   0.7            \n...                                                 ...            \n3190                                                0.0            \n3191                                                0.0            \n3192                                                0.0            \n3193                                                0.0            \n3194                                                0.0            \n\n      Two or More Races, percent, 2013  Hispanic or Latino, percent, 2013  \\\n0                                  4.8                               14.6   \n1                                  2.7                               28.0   \n2                                 23.3                               10.7   \n3                                  5.2                               22.7   \n4                                  3.7                               13.5   \n...                                ...                                ...   \n3190                               0.7                                0.6   \n3191                               0.7                                0.6   \n3192                               0.7                                0.5   \n3193                               0.8                                0.2   \n3194                               0.6                                0.5   \n\n      White alone, not Hispanic or Latino, percent, 2013  \\\n0                                                  29.2    \n1                                                  26.7    \n2                                                  31.5    \n3                                                  33.2    \n4                                                  12.9    \n...                                                 ...    \n3190                                               98.1    \n3191                                               98.2    \n3192                                               98.2    \n3193                                               98.8    \n3194                                               98.9    \n\n                          County State  \n0     Aleutians West Census Area    AK  \n1                  Queens County    NY  \n2                    Maui County    HI  \n3                 Alameda County    CA  \n4         Aleutians East Borough    AK  \n...                          ...   ...  \n3190                Osage County    MO  \n3191              Lincoln County    WV  \n3192               Leslie County    KY  \n3193               Blaine County    NE  \n3194            Keya Paha County    NE  \n\n[3195 rows x 11 columns]",
      "text/html": "<div>\n<style scoped>\n    .dataframe tbody tr th:only-of-type {\n        vertical-align: middle;\n    }\n\n    .dataframe tbody tr th {\n        vertical-align: top;\n    }\n\n    .dataframe thead th {\n        text-align: right;\n    }\n</style>\n<table border=\"1\" class=\"dataframe\">\n  <thead>\n    <tr style=\"text-align: right;\">\n      <th></th>\n      <th>Location</th>\n      <th>Diversity-Index</th>\n      <th>Black or African American alone, percent, 2013</th>\n      <th>American Indian and Alaska Native alone, percent, 2013</th>\n      <th>Asian alone, percent, 2013</th>\n      <th>Native Hawaiian and Other Pacific Islander alone, percent,</th>\n      <th>Two or More Races, percent, 2013</th>\n      <th>Hispanic or Latino, percent, 2013</th>\n      <th>White alone, not Hispanic or Latino, percent, 2013</th>\n      <th>County</th>\n      <th>State</th>\n    </tr>\n  </thead>\n  <tbody>\n    <tr>\n      <th>0</th>\n      <td>Aleutians West Census Area, AK</td>\n      <td>0.769346</td>\n      <td>7.4</td>\n      <td>13.8</td>\n      <td>31.1</td>\n      <td>2.3</td>\n      <td>4.8</td>\n      <td>14.6</td>\n      <td>29.2</td>\n      <td>Aleutians West Census Area</td>\n      <td>AK</td>\n    </tr>\n    <tr>\n      <th>1</th>\n      <td>Queens County, NY</td>\n      <td>0.742224</td>\n      <td>20.9</td>\n      <td>1.3</td>\n      <td>25.2</td>\n      <td>0.2</td>\n      <td>2.7</td>\n      <td>28.0</td>\n      <td>26.7</td>\n      <td>Queens County</td>\n      <td>NY</td>\n    </tr>\n    <tr>\n      <th>2</th>\n      <td>Maui County, HI</td>\n      <td>0.740757</td>\n      <td>0.8</td>\n      <td>0.6</td>\n      <td>28.8</td>\n      <td>10.6</td>\n      <td>23.3</td>\n      <td>10.7</td>\n      <td>31.5</td>\n      <td>Maui County</td>\n      <td>HI</td>\n    </tr>\n    <tr>\n      <th>3</th>\n      <td>Alameda County, CA</td>\n      <td>0.740399</td>\n      <td>12.4</td>\n      <td>1.2</td>\n      <td>28.2</td>\n      <td>1.0</td>\n      <td>5.2</td>\n      <td>22.7</td>\n      <td>33.2</td>\n      <td>Alameda County</td>\n      <td>CA</td>\n    </tr>\n    <tr>\n      <th>4</th>\n      <td>Aleutians East Borough, AK</td>\n      <td>0.738867</td>\n      <td>7.7</td>\n      <td>21.8</td>\n      <td>41.4</td>\n      <td>0.7</td>\n      <td>3.7</td>\n      <td>13.5</td>\n      <td>12.9</td>\n      <td>Aleutians East Borough</td>\n      <td>AK</td>\n    </tr>\n    <tr>\n      <th>...</th>\n      <td>...</td>\n      <td>...</td>\n      <td>...</td>\n      <td>...</td>\n      <td>...</td>\n      <td>...</td>\n      <td>...</td>\n      <td>...</td>\n      <td>...</td>\n      <td>...</td>\n      <td>...</td>\n    </tr>\n    <tr>\n      <th>3190</th>\n      <td>Osage County, MO</td>\n      <td>0.037540</td>\n      <td>0.3</td>\n      <td>0.2</td>\n      <td>0.1</td>\n      <td>0.0</td>\n      <td>0.7</td>\n      <td>0.6</td>\n      <td>98.1</td>\n      <td>Osage County</td>\n      <td>MO</td>\n    </tr>\n    <tr>\n      <th>3191</th>\n      <td>Lincoln County, WV</td>\n      <td>0.035585</td>\n      <td>0.2</td>\n      <td>0.1</td>\n      <td>0.1</td>\n      <td>0.0</td>\n      <td>0.7</td>\n      <td>0.6</td>\n      <td>98.2</td>\n      <td>Lincoln County</td>\n      <td>WV</td>\n    </tr>\n    <tr>\n      <th>3192</th>\n      <td>Leslie County, KY</td>\n      <td>0.035581</td>\n      <td>0.4</td>\n      <td>0.1</td>\n      <td>0.2</td>\n      <td>0.0</td>\n      <td>0.7</td>\n      <td>0.5</td>\n      <td>98.2</td>\n      <td>Leslie County</td>\n      <td>KY</td>\n    </tr>\n    <tr>\n      <th>3193</th>\n      <td>Blaine County, NE</td>\n      <td>0.023784</td>\n      <td>0.2</td>\n      <td>0.0</td>\n      <td>0.0</td>\n      <td>0.0</td>\n      <td>0.8</td>\n      <td>0.2</td>\n      <td>98.8</td>\n      <td>Blaine County</td>\n      <td>NE</td>\n    </tr>\n    <tr>\n      <th>3194</th>\n      <td>Keya Paha County, NE</td>\n      <td>0.021816</td>\n      <td>0.0</td>\n      <td>0.1</td>\n      <td>0.1</td>\n      <td>0.0</td>\n      <td>0.6</td>\n      <td>0.5</td>\n      <td>98.9</td>\n      <td>Keya Paha County</td>\n      <td>NE</td>\n    </tr>\n  </tbody>\n</table>\n<p>3195 rows × 11 columns</p>\n</div>"
     },
     "metadata": {},
     "execution_count": 5
    }
   ],
   "source": [
    "new_df"
   ]
  },
  {
   "cell_type": "code",
   "execution_count": 6,
   "metadata": {},
   "outputs": [
    {
     "output_type": "execute_result",
     "data": {
      "text/plain": "                            Location  Diversity-Index  \\\n0     Aleutians West Census Area, AK         0.769346   \n1                  Queens County, NY         0.742224   \n2                    Maui County, HI         0.740757   \n3                 Alameda County, CA         0.740399   \n4         Aleutians East Borough, AK         0.738867   \n...                              ...              ...   \n3190                Osage County, MO         0.037540   \n3191              Lincoln County, WV         0.035585   \n3192               Leslie County, KY         0.035581   \n3193               Blaine County, NE         0.023784   \n3194            Keya Paha County, NE         0.021816   \n\n      Black or African American alone, percent, 2013  \\\n0                                                7.4   \n1                                               20.9   \n2                                                0.8   \n3                                               12.4   \n4                                                7.7   \n...                                              ...   \n3190                                             0.3   \n3191                                             0.2   \n3192                                             0.4   \n3193                                             0.2   \n3194                                             0.0   \n\n      American Indian and Alaska Native alone, percent, 2013  \\\n0                                                  13.8        \n1                                                   1.3        \n2                                                   0.6        \n3                                                   1.2        \n4                                                  21.8        \n...                                                 ...        \n3190                                                0.2        \n3191                                                0.1        \n3192                                                0.1        \n3193                                                0.0        \n3194                                                0.1        \n\n      Asian alone, percent, 2013  \\\n0                           31.1   \n1                           25.2   \n2                           28.8   \n3                           28.2   \n4                           41.4   \n...                          ...   \n3190                         0.1   \n3191                         0.1   \n3192                         0.2   \n3193                         0.0   \n3194                         0.1   \n\n      Native Hawaiian and Other Pacific Islander alone, percent,  \\\n0                                                   2.3            \n1                                                   0.2            \n2                                                  10.6            \n3                                                   1.0            \n4                                                   0.7            \n...                                                 ...            \n3190                                                0.0            \n3191                                                0.0            \n3192                                                0.0            \n3193                                                0.0            \n3194                                                0.0            \n\n      Two or More Races, percent, 2013  Hispanic or Latino, percent, 2013  \\\n0                                  4.8                               14.6   \n1                                  2.7                               28.0   \n2                                 23.3                               10.7   \n3                                  5.2                               22.7   \n4                                  3.7                               13.5   \n...                                ...                                ...   \n3190                               0.7                                0.6   \n3191                               0.7                                0.6   \n3192                               0.7                                0.5   \n3193                               0.8                                0.2   \n3194                               0.6                                0.5   \n\n      White alone, not Hispanic or Latino, percent, 2013  \\\n0                                                  29.2    \n1                                                  26.7    \n2                                                  31.5    \n3                                                  33.2    \n4                                                  12.9    \n...                                                 ...    \n3190                                               98.1    \n3191                                               98.2    \n3192                                               98.2    \n3193                                               98.8    \n3194                                               98.9    \n\n                          County State  \n0     Aleutians West Census Area    AK  \n1                  Queens County    NY  \n2                    Maui County    HI  \n3                 Alameda County    CA  \n4         Aleutians East Borough    AK  \n...                          ...   ...  \n3190                Osage County    MO  \n3191              Lincoln County    WV  \n3192               Leslie County    KY  \n3193               Blaine County    NE  \n3194            Keya Paha County    NE  \n\n[3195 rows x 11 columns]",
      "text/html": "<div>\n<style scoped>\n    .dataframe tbody tr th:only-of-type {\n        vertical-align: middle;\n    }\n\n    .dataframe tbody tr th {\n        vertical-align: top;\n    }\n\n    .dataframe thead th {\n        text-align: right;\n    }\n</style>\n<table border=\"1\" class=\"dataframe\">\n  <thead>\n    <tr style=\"text-align: right;\">\n      <th></th>\n      <th>Location</th>\n      <th>Diversity-Index</th>\n      <th>Black or African American alone, percent, 2013</th>\n      <th>American Indian and Alaska Native alone, percent, 2013</th>\n      <th>Asian alone, percent, 2013</th>\n      <th>Native Hawaiian and Other Pacific Islander alone, percent,</th>\n      <th>Two or More Races, percent, 2013</th>\n      <th>Hispanic or Latino, percent, 2013</th>\n      <th>White alone, not Hispanic or Latino, percent, 2013</th>\n      <th>County</th>\n      <th>State</th>\n    </tr>\n  </thead>\n  <tbody>\n    <tr>\n      <th>0</th>\n      <td>Aleutians West Census Area, AK</td>\n      <td>0.769346</td>\n      <td>7.4</td>\n      <td>13.8</td>\n      <td>31.1</td>\n      <td>2.3</td>\n      <td>4.8</td>\n      <td>14.6</td>\n      <td>29.2</td>\n      <td>Aleutians West Census Area</td>\n      <td>AK</td>\n    </tr>\n    <tr>\n      <th>1</th>\n      <td>Queens County, NY</td>\n      <td>0.742224</td>\n      <td>20.9</td>\n      <td>1.3</td>\n      <td>25.2</td>\n      <td>0.2</td>\n      <td>2.7</td>\n      <td>28.0</td>\n      <td>26.7</td>\n      <td>Queens County</td>\n      <td>NY</td>\n    </tr>\n    <tr>\n      <th>2</th>\n      <td>Maui County, HI</td>\n      <td>0.740757</td>\n      <td>0.8</td>\n      <td>0.6</td>\n      <td>28.8</td>\n      <td>10.6</td>\n      <td>23.3</td>\n      <td>10.7</td>\n      <td>31.5</td>\n      <td>Maui County</td>\n      <td>HI</td>\n    </tr>\n    <tr>\n      <th>3</th>\n      <td>Alameda County, CA</td>\n      <td>0.740399</td>\n      <td>12.4</td>\n      <td>1.2</td>\n      <td>28.2</td>\n      <td>1.0</td>\n      <td>5.2</td>\n      <td>22.7</td>\n      <td>33.2</td>\n      <td>Alameda County</td>\n      <td>CA</td>\n    </tr>\n    <tr>\n      <th>4</th>\n      <td>Aleutians East Borough, AK</td>\n      <td>0.738867</td>\n      <td>7.7</td>\n      <td>21.8</td>\n      <td>41.4</td>\n      <td>0.7</td>\n      <td>3.7</td>\n      <td>13.5</td>\n      <td>12.9</td>\n      <td>Aleutians East Borough</td>\n      <td>AK</td>\n    </tr>\n    <tr>\n      <th>...</th>\n      <td>...</td>\n      <td>...</td>\n      <td>...</td>\n      <td>...</td>\n      <td>...</td>\n      <td>...</td>\n      <td>...</td>\n      <td>...</td>\n      <td>...</td>\n      <td>...</td>\n      <td>...</td>\n    </tr>\n    <tr>\n      <th>3190</th>\n      <td>Osage County, MO</td>\n      <td>0.037540</td>\n      <td>0.3</td>\n      <td>0.2</td>\n      <td>0.1</td>\n      <td>0.0</td>\n      <td>0.7</td>\n      <td>0.6</td>\n      <td>98.1</td>\n      <td>Osage County</td>\n      <td>MO</td>\n    </tr>\n    <tr>\n      <th>3191</th>\n      <td>Lincoln County, WV</td>\n      <td>0.035585</td>\n      <td>0.2</td>\n      <td>0.1</td>\n      <td>0.1</td>\n      <td>0.0</td>\n      <td>0.7</td>\n      <td>0.6</td>\n      <td>98.2</td>\n      <td>Lincoln County</td>\n      <td>WV</td>\n    </tr>\n    <tr>\n      <th>3192</th>\n      <td>Leslie County, KY</td>\n      <td>0.035581</td>\n      <td>0.4</td>\n      <td>0.1</td>\n      <td>0.2</td>\n      <td>0.0</td>\n      <td>0.7</td>\n      <td>0.5</td>\n      <td>98.2</td>\n      <td>Leslie County</td>\n      <td>KY</td>\n    </tr>\n    <tr>\n      <th>3193</th>\n      <td>Blaine County, NE</td>\n      <td>0.023784</td>\n      <td>0.2</td>\n      <td>0.0</td>\n      <td>0.0</td>\n      <td>0.0</td>\n      <td>0.8</td>\n      <td>0.2</td>\n      <td>98.8</td>\n      <td>Blaine County</td>\n      <td>NE</td>\n    </tr>\n    <tr>\n      <th>3194</th>\n      <td>Keya Paha County, NE</td>\n      <td>0.021816</td>\n      <td>0.0</td>\n      <td>0.1</td>\n      <td>0.1</td>\n      <td>0.0</td>\n      <td>0.6</td>\n      <td>0.5</td>\n      <td>98.9</td>\n      <td>Keya Paha County</td>\n      <td>NE</td>\n    </tr>\n  </tbody>\n</table>\n<p>3195 rows × 11 columns</p>\n</div>"
     },
     "metadata": {},
     "execution_count": 6
    }
   ],
   "source": [
    "diversity_df"
   ]
  },
  {
   "cell_type": "code",
   "execution_count": 7,
   "metadata": {},
   "outputs": [],
   "source": [
    "new_df2 = pd.DataFrame({\"Diversity-Index\":new_df.groupby([\"State\",\"County\"])[\"Diversity-Index\"].mean(),\n",
    "                       \"Black\":new_df.groupby([\"State\",\"County\"])[\"Black or African American alone, percent, 2013\"].mean(),\n",
    "                       \"American Indian\":new_df.groupby([\"State\",\"County\"])[\"American Indian and Alaska Native alone, percent, 2013\"].mean(),\n",
    "                       \"Asian\":new_df.groupby([\"State\",\"County\"])[\"Asian alone, percent, 2013\"].mean(),\n",
    "                       \"Native Hawaiian\":new_df.groupby([\"State\",\"County\"])[\"Native Hawaiian and Other Pacific Islander alone, percent,\"].mean(),\n",
    "                       \"Two or More Races\":new_df.groupby([\"State\",\"County\"])[\"Two or More Races, percent, 2013\"].mean(),\n",
    "                       \"Hispanic/ Latino\":new_df.groupby([\"State\",\"County\"])[\"Hispanic or Latino, percent, 2013\"].mean(),\n",
    "                       \"White\":new_df.groupby([\"State\",\"County\"])[\"White alone, not Hispanic or Latino, percent, 2013\"].mean()})"
   ]
  },
  {
   "cell_type": "code",
   "execution_count": 8,
   "metadata": {},
   "outputs": [
    {
     "output_type": "execute_result",
     "data": {
      "text/plain": "                                  Diversity-Index  Black  American Indian  \\\nState County                                                                \nAK    Aleutians East Borough             0.738867    7.7             21.8   \n      Aleutians West Census Area         0.769346    7.4             13.8   \n      Anchorage Municipality             0.601515    6.3              8.1   \n      Bethel Census Area                 0.315556    0.7             81.8   \n      Bristol Bay Borough                0.648271    0.0             33.8   \n...                                           ...    ...              ...   \nWY    Sweetwater County                  0.340296    1.7              1.2   \n      Teton County                       0.325230    1.5              1.0   \n      Uinta County                       0.225552    0.8              1.3   \n      Washakie County                    0.296868    0.8              1.7   \n      Weston County                      0.147697    0.6              1.7   \n\n                                  Asian  Native Hawaiian  Two or More Races  \\\nState County                                                                  \nAK    Aleutians East Borough       41.4              0.7                3.7   \n      Aleutians West Census Area   31.1              2.3                4.8   \n      Anchorage Municipality        8.9              2.3                7.8   \n      Bethel Census Area            1.0              0.3                4.1   \n      Bristol Bay Borough           1.1              0.3               17.5   \n...                                 ...              ...                ...   \nWY    Sweetwater County             0.9              0.2                1.7   \n      Teton County                  1.3              0.1                1.5   \n      Uinta County                  0.4              0.2                1.7   \n      Washakie County               0.7              0.1                1.7   \n      Weston County                 0.3              0.0                2.1   \n\n                                  Hispanic/ Latino  White  \nState County                                               \nAK    Aleutians East Borough                  13.5   12.9  \n      Aleutians West Census Area              14.6   29.2  \n      Anchorage Municipality                   8.6   60.5  \n      Bethel Census Area                       1.6   11.5  \n      Bristol Bay Borough                      3.9   45.3  \n...                                            ...    ...  \nWY    Sweetwater County                       15.9   79.6  \n      Teton County                            15.1   80.7  \n      Uinta County                             9.1   87.5  \n      Washakie County                         14.2   82.6  \n      Weston County                            3.8   92.2  \n\n[3143 rows x 8 columns]",
      "text/html": "<div>\n<style scoped>\n    .dataframe tbody tr th:only-of-type {\n        vertical-align: middle;\n    }\n\n    .dataframe tbody tr th {\n        vertical-align: top;\n    }\n\n    .dataframe thead th {\n        text-align: right;\n    }\n</style>\n<table border=\"1\" class=\"dataframe\">\n  <thead>\n    <tr style=\"text-align: right;\">\n      <th></th>\n      <th></th>\n      <th>Diversity-Index</th>\n      <th>Black</th>\n      <th>American Indian</th>\n      <th>Asian</th>\n      <th>Native Hawaiian</th>\n      <th>Two or More Races</th>\n      <th>Hispanic/ Latino</th>\n      <th>White</th>\n    </tr>\n    <tr>\n      <th>State</th>\n      <th>County</th>\n      <th></th>\n      <th></th>\n      <th></th>\n      <th></th>\n      <th></th>\n      <th></th>\n      <th></th>\n      <th></th>\n    </tr>\n  </thead>\n  <tbody>\n    <tr>\n      <th rowspan=\"5\" valign=\"top\">AK</th>\n      <th>Aleutians East Borough</th>\n      <td>0.738867</td>\n      <td>7.7</td>\n      <td>21.8</td>\n      <td>41.4</td>\n      <td>0.7</td>\n      <td>3.7</td>\n      <td>13.5</td>\n      <td>12.9</td>\n    </tr>\n    <tr>\n      <th>Aleutians West Census Area</th>\n      <td>0.769346</td>\n      <td>7.4</td>\n      <td>13.8</td>\n      <td>31.1</td>\n      <td>2.3</td>\n      <td>4.8</td>\n      <td>14.6</td>\n      <td>29.2</td>\n    </tr>\n    <tr>\n      <th>Anchorage Municipality</th>\n      <td>0.601515</td>\n      <td>6.3</td>\n      <td>8.1</td>\n      <td>8.9</td>\n      <td>2.3</td>\n      <td>7.8</td>\n      <td>8.6</td>\n      <td>60.5</td>\n    </tr>\n    <tr>\n      <th>Bethel Census Area</th>\n      <td>0.315556</td>\n      <td>0.7</td>\n      <td>81.8</td>\n      <td>1.0</td>\n      <td>0.3</td>\n      <td>4.1</td>\n      <td>1.6</td>\n      <td>11.5</td>\n    </tr>\n    <tr>\n      <th>Bristol Bay Borough</th>\n      <td>0.648271</td>\n      <td>0.0</td>\n      <td>33.8</td>\n      <td>1.1</td>\n      <td>0.3</td>\n      <td>17.5</td>\n      <td>3.9</td>\n      <td>45.3</td>\n    </tr>\n    <tr>\n      <th>...</th>\n      <th>...</th>\n      <td>...</td>\n      <td>...</td>\n      <td>...</td>\n      <td>...</td>\n      <td>...</td>\n      <td>...</td>\n      <td>...</td>\n      <td>...</td>\n    </tr>\n    <tr>\n      <th rowspan=\"5\" valign=\"top\">WY</th>\n      <th>Sweetwater County</th>\n      <td>0.340296</td>\n      <td>1.7</td>\n      <td>1.2</td>\n      <td>0.9</td>\n      <td>0.2</td>\n      <td>1.7</td>\n      <td>15.9</td>\n      <td>79.6</td>\n    </tr>\n    <tr>\n      <th>Teton County</th>\n      <td>0.325230</td>\n      <td>1.5</td>\n      <td>1.0</td>\n      <td>1.3</td>\n      <td>0.1</td>\n      <td>1.5</td>\n      <td>15.1</td>\n      <td>80.7</td>\n    </tr>\n    <tr>\n      <th>Uinta County</th>\n      <td>0.225552</td>\n      <td>0.8</td>\n      <td>1.3</td>\n      <td>0.4</td>\n      <td>0.2</td>\n      <td>1.7</td>\n      <td>9.1</td>\n      <td>87.5</td>\n    </tr>\n    <tr>\n      <th>Washakie County</th>\n      <td>0.296868</td>\n      <td>0.8</td>\n      <td>1.7</td>\n      <td>0.7</td>\n      <td>0.1</td>\n      <td>1.7</td>\n      <td>14.2</td>\n      <td>82.6</td>\n    </tr>\n    <tr>\n      <th>Weston County</th>\n      <td>0.147697</td>\n      <td>0.6</td>\n      <td>1.7</td>\n      <td>0.3</td>\n      <td>0.0</td>\n      <td>2.1</td>\n      <td>3.8</td>\n      <td>92.2</td>\n    </tr>\n  </tbody>\n</table>\n<p>3143 rows × 8 columns</p>\n</div>"
     },
     "metadata": {},
     "execution_count": 8
    }
   ],
   "source": [
    "new_df2"
   ]
  },
  {
   "cell_type": "code",
   "execution_count": 9,
   "metadata": {},
   "outputs": [
    {
     "output_type": "execute_result",
     "data": {
      "text/plain": "                                  Diversity-Index  Black  American Indian  \\\nState County                                                                \nAK    Aleutians East Borough             0.738867    7.7             21.8   \n      Aleutians West Census Area         0.769346    7.4             13.8   \n      Anchorage Municipality             0.601515    6.3              8.1   \n      Bethel Census Area                 0.315556    0.7             81.8   \n      Bristol Bay Borough                0.648271    0.0             33.8   \n\n                                  Asian  Native Hawaiian  Two or More Races  \\\nState County                                                                  \nAK    Aleutians East Borough       41.4              0.7                3.7   \n      Aleutians West Census Area   31.1              2.3                4.8   \n      Anchorage Municipality        8.9              2.3                7.8   \n      Bethel Census Area            1.0              0.3                4.1   \n      Bristol Bay Borough           1.1              0.3               17.5   \n\n                                  Hispanic/ Latino  White  \nState County                                               \nAK    Aleutians East Borough                  13.5   12.9  \n      Aleutians West Census Area              14.6   29.2  \n      Anchorage Municipality                   8.6   60.5  \n      Bethel Census Area                       1.6   11.5  \n      Bristol Bay Borough                      3.9   45.3  ",
      "text/html": "<div>\n<style scoped>\n    .dataframe tbody tr th:only-of-type {\n        vertical-align: middle;\n    }\n\n    .dataframe tbody tr th {\n        vertical-align: top;\n    }\n\n    .dataframe thead th {\n        text-align: right;\n    }\n</style>\n<table border=\"1\" class=\"dataframe\">\n  <thead>\n    <tr style=\"text-align: right;\">\n      <th></th>\n      <th></th>\n      <th>Diversity-Index</th>\n      <th>Black</th>\n      <th>American Indian</th>\n      <th>Asian</th>\n      <th>Native Hawaiian</th>\n      <th>Two or More Races</th>\n      <th>Hispanic/ Latino</th>\n      <th>White</th>\n    </tr>\n    <tr>\n      <th>State</th>\n      <th>County</th>\n      <th></th>\n      <th></th>\n      <th></th>\n      <th></th>\n      <th></th>\n      <th></th>\n      <th></th>\n      <th></th>\n    </tr>\n  </thead>\n  <tbody>\n    <tr>\n      <th rowspan=\"5\" valign=\"top\">AK</th>\n      <th>Aleutians East Borough</th>\n      <td>0.738867</td>\n      <td>7.7</td>\n      <td>21.8</td>\n      <td>41.4</td>\n      <td>0.7</td>\n      <td>3.7</td>\n      <td>13.5</td>\n      <td>12.9</td>\n    </tr>\n    <tr>\n      <th>Aleutians West Census Area</th>\n      <td>0.769346</td>\n      <td>7.4</td>\n      <td>13.8</td>\n      <td>31.1</td>\n      <td>2.3</td>\n      <td>4.8</td>\n      <td>14.6</td>\n      <td>29.2</td>\n    </tr>\n    <tr>\n      <th>Anchorage Municipality</th>\n      <td>0.601515</td>\n      <td>6.3</td>\n      <td>8.1</td>\n      <td>8.9</td>\n      <td>2.3</td>\n      <td>7.8</td>\n      <td>8.6</td>\n      <td>60.5</td>\n    </tr>\n    <tr>\n      <th>Bethel Census Area</th>\n      <td>0.315556</td>\n      <td>0.7</td>\n      <td>81.8</td>\n      <td>1.0</td>\n      <td>0.3</td>\n      <td>4.1</td>\n      <td>1.6</td>\n      <td>11.5</td>\n    </tr>\n    <tr>\n      <th>Bristol Bay Borough</th>\n      <td>0.648271</td>\n      <td>0.0</td>\n      <td>33.8</td>\n      <td>1.1</td>\n      <td>0.3</td>\n      <td>17.5</td>\n      <td>3.9</td>\n      <td>45.3</td>\n    </tr>\n  </tbody>\n</table>\n</div>"
     },
     "metadata": {},
     "execution_count": 9
    }
   ],
   "source": [
    "new_df2.head()"
   ]
  },
  {
   "cell_type": "code",
   "execution_count": 10,
   "metadata": {},
   "outputs": [
    {
     "output_type": "execute_result",
     "data": {
      "text/plain": "   Year     Month        State         County  Rate\n0  2015  February  Mississippi  Newton County   6.1\n1  2015  February  Mississippi  Panola County   9.4\n2  2015  February  Mississippi  Monroe County   7.9\n3  2015  February  Mississippi   Hinds County   6.1\n4  2015  February  Mississippi  Kemper County  10.6",
      "text/html": "<div>\n<style scoped>\n    .dataframe tbody tr th:only-of-type {\n        vertical-align: middle;\n    }\n\n    .dataframe tbody tr th {\n        vertical-align: top;\n    }\n\n    .dataframe thead th {\n        text-align: right;\n    }\n</style>\n<table border=\"1\" class=\"dataframe\">\n  <thead>\n    <tr style=\"text-align: right;\">\n      <th></th>\n      <th>Year</th>\n      <th>Month</th>\n      <th>State</th>\n      <th>County</th>\n      <th>Rate</th>\n    </tr>\n  </thead>\n  <tbody>\n    <tr>\n      <th>0</th>\n      <td>2015</td>\n      <td>February</td>\n      <td>Mississippi</td>\n      <td>Newton County</td>\n      <td>6.1</td>\n    </tr>\n    <tr>\n      <th>1</th>\n      <td>2015</td>\n      <td>February</td>\n      <td>Mississippi</td>\n      <td>Panola County</td>\n      <td>9.4</td>\n    </tr>\n    <tr>\n      <th>2</th>\n      <td>2015</td>\n      <td>February</td>\n      <td>Mississippi</td>\n      <td>Monroe County</td>\n      <td>7.9</td>\n    </tr>\n    <tr>\n      <th>3</th>\n      <td>2015</td>\n      <td>February</td>\n      <td>Mississippi</td>\n      <td>Hinds County</td>\n      <td>6.1</td>\n    </tr>\n    <tr>\n      <th>4</th>\n      <td>2015</td>\n      <td>February</td>\n      <td>Mississippi</td>\n      <td>Kemper County</td>\n      <td>10.6</td>\n    </tr>\n  </tbody>\n</table>\n</div>"
     },
     "metadata": {},
     "execution_count": 10
    }
   ],
   "source": [
    "#Unemployment Rate Dataset#\n",
    "unemp_df = pd.read_csv('Resources/output.csv')\n",
    "unemp_df.head()"
   ]
  },
  {
   "cell_type": "code",
   "execution_count": 11,
   "metadata": {},
   "outputs": [
    {
     "output_type": "execute_result",
     "data": {
      "text/plain": "        Year     Month        State              County  Rate\n0       2015  February  Mississippi       Newton County   6.1\n1       2015  February  Mississippi       Panola County   9.4\n2       2015  February  Mississippi       Monroe County   7.9\n3       2015  February  Mississippi        Hinds County   6.1\n4       2015  February  Mississippi       Kemper County  10.6\n...      ...       ...          ...                 ...   ...\n885543  2009  November        Maine     Somerset County  10.5\n885544  2009  November        Maine       Oxford County  10.5\n885545  2009  November        Maine         Knox County   7.5\n885546  2009  November        Maine  Piscataquis County  11.3\n885547  2009  November        Maine    Aroostook County   9.0\n\n[885548 rows x 5 columns]",
      "text/html": "<div>\n<style scoped>\n    .dataframe tbody tr th:only-of-type {\n        vertical-align: middle;\n    }\n\n    .dataframe tbody tr th {\n        vertical-align: top;\n    }\n\n    .dataframe thead th {\n        text-align: right;\n    }\n</style>\n<table border=\"1\" class=\"dataframe\">\n  <thead>\n    <tr style=\"text-align: right;\">\n      <th></th>\n      <th>Year</th>\n      <th>Month</th>\n      <th>State</th>\n      <th>County</th>\n      <th>Rate</th>\n    </tr>\n  </thead>\n  <tbody>\n    <tr>\n      <th>0</th>\n      <td>2015</td>\n      <td>February</td>\n      <td>Mississippi</td>\n      <td>Newton County</td>\n      <td>6.1</td>\n    </tr>\n    <tr>\n      <th>1</th>\n      <td>2015</td>\n      <td>February</td>\n      <td>Mississippi</td>\n      <td>Panola County</td>\n      <td>9.4</td>\n    </tr>\n    <tr>\n      <th>2</th>\n      <td>2015</td>\n      <td>February</td>\n      <td>Mississippi</td>\n      <td>Monroe County</td>\n      <td>7.9</td>\n    </tr>\n    <tr>\n      <th>3</th>\n      <td>2015</td>\n      <td>February</td>\n      <td>Mississippi</td>\n      <td>Hinds County</td>\n      <td>6.1</td>\n    </tr>\n    <tr>\n      <th>4</th>\n      <td>2015</td>\n      <td>February</td>\n      <td>Mississippi</td>\n      <td>Kemper County</td>\n      <td>10.6</td>\n    </tr>\n    <tr>\n      <th>...</th>\n      <td>...</td>\n      <td>...</td>\n      <td>...</td>\n      <td>...</td>\n      <td>...</td>\n    </tr>\n    <tr>\n      <th>885543</th>\n      <td>2009</td>\n      <td>November</td>\n      <td>Maine</td>\n      <td>Somerset County</td>\n      <td>10.5</td>\n    </tr>\n    <tr>\n      <th>885544</th>\n      <td>2009</td>\n      <td>November</td>\n      <td>Maine</td>\n      <td>Oxford County</td>\n      <td>10.5</td>\n    </tr>\n    <tr>\n      <th>885545</th>\n      <td>2009</td>\n      <td>November</td>\n      <td>Maine</td>\n      <td>Knox County</td>\n      <td>7.5</td>\n    </tr>\n    <tr>\n      <th>885546</th>\n      <td>2009</td>\n      <td>November</td>\n      <td>Maine</td>\n      <td>Piscataquis County</td>\n      <td>11.3</td>\n    </tr>\n    <tr>\n      <th>885547</th>\n      <td>2009</td>\n      <td>November</td>\n      <td>Maine</td>\n      <td>Aroostook County</td>\n      <td>9.0</td>\n    </tr>\n  </tbody>\n</table>\n<p>885548 rows × 5 columns</p>\n</div>"
     },
     "metadata": {},
     "execution_count": 11
    }
   ],
   "source": [
    "unemp_df"
   ]
  },
  {
   "cell_type": "code",
   "execution_count": 12,
   "metadata": {},
   "outputs": [],
   "source": [
    "us_state_abbrev = {\n",
    "   'Alabama': 'AL',\n",
    "   'Alaska': 'AK',\n",
    "   'Arizona': 'AZ',\n",
    "   'Arkansas': 'AR',\n",
    "   'California': 'CA',\n",
    "   'Colorado': 'CO',\n",
    "   'Connecticut': 'CT',\n",
    "   'Delaware': 'DE',\n",
    "   'Florida': 'FL',\n",
    "   'Georgia': 'GA',\n",
    "   'Hawaii': 'HI',\n",
    "   'Idaho': 'ID',\n",
    "   'Illinois': 'IL',\n",
    "   'Indiana': 'IN',\n",
    "   'Iowa': 'IA',\n",
    "   'Kansas': 'KS',\n",
    "   'Kentucky': 'KY',\n",
    "   'Louisiana': 'LA',\n",
    "   'Maine': 'ME',\n",
    "   'Maryland': 'MD',\n",
    "   'Massachusetts': 'MA',\n",
    "   'Michigan': 'MI',\n",
    "   'Minnesota': 'MN',\n",
    "   'Mississippi': 'MS',\n",
    "   'Missouri': 'MO',\n",
    "   'Montana': 'MT',\n",
    "   'Nebraska': 'NE',\n",
    "   'Nevada': 'NV',\n",
    "   'New Hampshire': 'NH',\n",
    "   'New Jersey': 'NJ',\n",
    "   'New Mexico': 'NM',\n",
    "   'New York': 'NY',\n",
    "   'North Carolina': 'NC',\n",
    "   'North Dakota': 'ND',\n",
    "   'Ohio': 'OH',\n",
    "   'Oklahoma': 'OK',\n",
    "   'Oregon': 'OR',\n",
    "   'Pennsylvania': 'PA',\n",
    "   'Rhode Island': 'RI',\n",
    "   'South Carolina': 'SC',\n",
    "   'South Dakota': 'SD',\n",
    "   'Tennessee': 'TN',\n",
    "   'Texas': 'TX',\n",
    "   'Utah': 'UT',\n",
    "   'Vermont': 'VT',\n",
    "   'Virginia': 'VA',\n",
    "   'Washington': 'WA',\n",
    "   'West Virginia': 'WV',\n",
    "   'Wisconsin': 'WI',\n",
    "   'Wyoming': 'WY',\n",
    "}"
   ]
  },
  {
   "cell_type": "code",
   "execution_count": 13,
   "metadata": {},
   "outputs": [],
   "source": [
    "unemp_df2 = unemp_df"
   ]
  },
  {
   "cell_type": "code",
   "execution_count": 14,
   "metadata": {},
   "outputs": [],
   "source": [
    "unemp_df = unemp_df[['County', \"State\", 'Rate']].copy()\n"
   ]
  },
  {
   "cell_type": "code",
   "execution_count": 15,
   "metadata": {},
   "outputs": [
    {
     "output_type": "execute_result",
     "data": {
      "text/plain": "                    County        State  Rate\n0            Newton County  Mississippi   6.1\n1            Panola County  Mississippi   9.4\n2            Monroe County  Mississippi   7.9\n3             Hinds County  Mississippi   6.1\n4            Kemper County  Mississippi  10.6\n...                    ...          ...   ...\n885543     Somerset County        Maine  10.5\n885544       Oxford County        Maine  10.5\n885545         Knox County        Maine   7.5\n885546  Piscataquis County        Maine  11.3\n885547    Aroostook County        Maine   9.0\n\n[885548 rows x 3 columns]",
      "text/html": "<div>\n<style scoped>\n    .dataframe tbody tr th:only-of-type {\n        vertical-align: middle;\n    }\n\n    .dataframe tbody tr th {\n        vertical-align: top;\n    }\n\n    .dataframe thead th {\n        text-align: right;\n    }\n</style>\n<table border=\"1\" class=\"dataframe\">\n  <thead>\n    <tr style=\"text-align: right;\">\n      <th></th>\n      <th>County</th>\n      <th>State</th>\n      <th>Rate</th>\n    </tr>\n  </thead>\n  <tbody>\n    <tr>\n      <th>0</th>\n      <td>Newton County</td>\n      <td>Mississippi</td>\n      <td>6.1</td>\n    </tr>\n    <tr>\n      <th>1</th>\n      <td>Panola County</td>\n      <td>Mississippi</td>\n      <td>9.4</td>\n    </tr>\n    <tr>\n      <th>2</th>\n      <td>Monroe County</td>\n      <td>Mississippi</td>\n      <td>7.9</td>\n    </tr>\n    <tr>\n      <th>3</th>\n      <td>Hinds County</td>\n      <td>Mississippi</td>\n      <td>6.1</td>\n    </tr>\n    <tr>\n      <th>4</th>\n      <td>Kemper County</td>\n      <td>Mississippi</td>\n      <td>10.6</td>\n    </tr>\n    <tr>\n      <th>...</th>\n      <td>...</td>\n      <td>...</td>\n      <td>...</td>\n    </tr>\n    <tr>\n      <th>885543</th>\n      <td>Somerset County</td>\n      <td>Maine</td>\n      <td>10.5</td>\n    </tr>\n    <tr>\n      <th>885544</th>\n      <td>Oxford County</td>\n      <td>Maine</td>\n      <td>10.5</td>\n    </tr>\n    <tr>\n      <th>885545</th>\n      <td>Knox County</td>\n      <td>Maine</td>\n      <td>7.5</td>\n    </tr>\n    <tr>\n      <th>885546</th>\n      <td>Piscataquis County</td>\n      <td>Maine</td>\n      <td>11.3</td>\n    </tr>\n    <tr>\n      <th>885547</th>\n      <td>Aroostook County</td>\n      <td>Maine</td>\n      <td>9.0</td>\n    </tr>\n  </tbody>\n</table>\n<p>885548 rows × 3 columns</p>\n</div>"
     },
     "metadata": {},
     "execution_count": 15
    }
   ],
   "source": [
    "unemp_df\n"
   ]
  },
  {
   "cell_type": "code",
   "execution_count": 16,
   "metadata": {},
   "outputs": [],
   "source": [
    "unemp_df2 = unemp_df"
   ]
  },
  {
   "cell_type": "code",
   "execution_count": 17,
   "metadata": {},
   "outputs": [],
   "source": [
    "for key, value in us_state_abbrev.items():\n",
    "    unemp_df2.loc[unemp_df2['State']==key,'State'] = value"
   ]
  },
  {
   "cell_type": "code",
   "execution_count": 18,
   "metadata": {},
   "outputs": [
    {
     "output_type": "execute_result",
     "data": {
      "text/plain": "          County State  Rate\n0  Newton County    MS   6.1\n1  Panola County    MS   9.4\n2  Monroe County    MS   7.9\n3   Hinds County    MS   6.1\n4  Kemper County    MS  10.6",
      "text/html": "<div>\n<style scoped>\n    .dataframe tbody tr th:only-of-type {\n        vertical-align: middle;\n    }\n\n    .dataframe tbody tr th {\n        vertical-align: top;\n    }\n\n    .dataframe thead th {\n        text-align: right;\n    }\n</style>\n<table border=\"1\" class=\"dataframe\">\n  <thead>\n    <tr style=\"text-align: right;\">\n      <th></th>\n      <th>County</th>\n      <th>State</th>\n      <th>Rate</th>\n    </tr>\n  </thead>\n  <tbody>\n    <tr>\n      <th>0</th>\n      <td>Newton County</td>\n      <td>MS</td>\n      <td>6.1</td>\n    </tr>\n    <tr>\n      <th>1</th>\n      <td>Panola County</td>\n      <td>MS</td>\n      <td>9.4</td>\n    </tr>\n    <tr>\n      <th>2</th>\n      <td>Monroe County</td>\n      <td>MS</td>\n      <td>7.9</td>\n    </tr>\n    <tr>\n      <th>3</th>\n      <td>Hinds County</td>\n      <td>MS</td>\n      <td>6.1</td>\n    </tr>\n    <tr>\n      <th>4</th>\n      <td>Kemper County</td>\n      <td>MS</td>\n      <td>10.6</td>\n    </tr>\n  </tbody>\n</table>\n</div>"
     },
     "metadata": {},
     "execution_count": 18
    }
   ],
   "source": [
    "unemp_df2.head()\n"
   ]
  },
  {
   "cell_type": "code",
   "execution_count": 19,
   "metadata": {},
   "outputs": [
    {
     "output_type": "execute_result",
     "data": {
      "text/plain": "                      Unemployment Rate\nState County                           \nAL    Autauga County           5.417284\n      Baldwin County           5.364198\n      Barbour County           8.460185\n      Bibb County              7.684877\n      Blount County            5.164506",
      "text/html": "<div>\n<style scoped>\n    .dataframe tbody tr th:only-of-type {\n        vertical-align: middle;\n    }\n\n    .dataframe tbody tr th {\n        vertical-align: top;\n    }\n\n    .dataframe thead th {\n        text-align: right;\n    }\n</style>\n<table border=\"1\" class=\"dataframe\">\n  <thead>\n    <tr style=\"text-align: right;\">\n      <th></th>\n      <th></th>\n      <th>Unemployment Rate</th>\n    </tr>\n    <tr>\n      <th>State</th>\n      <th>County</th>\n      <th></th>\n    </tr>\n  </thead>\n  <tbody>\n    <tr>\n      <th rowspan=\"5\" valign=\"top\">AL</th>\n      <th>Autauga County</th>\n      <td>5.417284</td>\n    </tr>\n    <tr>\n      <th>Baldwin County</th>\n      <td>5.364198</td>\n    </tr>\n    <tr>\n      <th>Barbour County</th>\n      <td>8.460185</td>\n    </tr>\n    <tr>\n      <th>Bibb County</th>\n      <td>7.684877</td>\n    </tr>\n    <tr>\n      <th>Blount County</th>\n      <td>5.164506</td>\n    </tr>\n  </tbody>\n</table>\n</div>"
     },
     "metadata": {},
     "execution_count": 19
    }
   ],
   "source": [
    "unemp_df_new = pd.DataFrame({\"Unemployment Rate\":unemp_df2.groupby([\"State\",\"County\"])[\"Rate\"].mean()})\n",
    "unemp_df_new.head()\n"
   ]
  },
  {
   "cell_type": "code",
   "execution_count": 20,
   "metadata": {},
   "outputs": [
    {
     "output_type": "execute_result",
     "data": {
      "text/plain": "              County-State          County  Population  \\\n0  Autauga County, Alabama  Autauga County       55221   \n1  Baldwin County, Alabama  Baldwin County      195121   \n2  Barbour County, Alabama  Barbour County       26932   \n3     Bibb County, Alabama     Bibb County       22604   \n4   Blount County, Alabama   Blount County       57710   \n\n   Median household income State Code    State  \n0                  51281.0         AL  Alabama  \n1                  50254.0         AL  Alabama  \n2                  32964.0         AL  Alabama  \n3                  38678.0         AL  Alabama  \n4                  45813.0         AL  Alabama  ",
      "text/html": "<div>\n<style scoped>\n    .dataframe tbody tr th:only-of-type {\n        vertical-align: middle;\n    }\n\n    .dataframe tbody tr th {\n        vertical-align: top;\n    }\n\n    .dataframe thead th {\n        text-align: right;\n    }\n</style>\n<table border=\"1\" class=\"dataframe\">\n  <thead>\n    <tr style=\"text-align: right;\">\n      <th></th>\n      <th>County-State</th>\n      <th>County</th>\n      <th>Population</th>\n      <th>Median household income</th>\n      <th>State Code</th>\n      <th>State</th>\n    </tr>\n  </thead>\n  <tbody>\n    <tr>\n      <th>0</th>\n      <td>Autauga County, Alabama</td>\n      <td>Autauga County</td>\n      <td>55221</td>\n      <td>51281.0</td>\n      <td>AL</td>\n      <td>Alabama</td>\n    </tr>\n    <tr>\n      <th>1</th>\n      <td>Baldwin County, Alabama</td>\n      <td>Baldwin County</td>\n      <td>195121</td>\n      <td>50254.0</td>\n      <td>AL</td>\n      <td>Alabama</td>\n    </tr>\n    <tr>\n      <th>2</th>\n      <td>Barbour County, Alabama</td>\n      <td>Barbour County</td>\n      <td>26932</td>\n      <td>32964.0</td>\n      <td>AL</td>\n      <td>Alabama</td>\n    </tr>\n    <tr>\n      <th>3</th>\n      <td>Bibb County, Alabama</td>\n      <td>Bibb County</td>\n      <td>22604</td>\n      <td>38678.0</td>\n      <td>AL</td>\n      <td>Alabama</td>\n    </tr>\n    <tr>\n      <th>4</th>\n      <td>Blount County, Alabama</td>\n      <td>Blount County</td>\n      <td>57710</td>\n      <td>45813.0</td>\n      <td>AL</td>\n      <td>Alabama</td>\n    </tr>\n  </tbody>\n</table>\n</div>"
     },
     "metadata": {},
     "execution_count": 20
    }
   ],
   "source": [
    "#Median Income & Population Dataset#\n",
    "median_inc = pd.read_csv('Resources/2015 Median Income by County.csv')\n",
    "median_inc.head()"
   ]
  },
  {
   "cell_type": "code",
   "execution_count": 21,
   "metadata": {},
   "outputs": [
    {
     "output_type": "execute_result",
     "data": {
      "text/plain": "           County State Code  Population  Median household income\n0  Autauga County         AL       55221                  51281.0\n1  Baldwin County         AL      195121                  50254.0\n2  Barbour County         AL       26932                  32964.0\n3     Bibb County         AL       22604                  38678.0\n4   Blount County         AL       57710                  45813.0",
      "text/html": "<div>\n<style scoped>\n    .dataframe tbody tr th:only-of-type {\n        vertical-align: middle;\n    }\n\n    .dataframe tbody tr th {\n        vertical-align: top;\n    }\n\n    .dataframe thead th {\n        text-align: right;\n    }\n</style>\n<table border=\"1\" class=\"dataframe\">\n  <thead>\n    <tr style=\"text-align: right;\">\n      <th></th>\n      <th>County</th>\n      <th>State Code</th>\n      <th>Population</th>\n      <th>Median household income</th>\n    </tr>\n  </thead>\n  <tbody>\n    <tr>\n      <th>0</th>\n      <td>Autauga County</td>\n      <td>AL</td>\n      <td>55221</td>\n      <td>51281.0</td>\n    </tr>\n    <tr>\n      <th>1</th>\n      <td>Baldwin County</td>\n      <td>AL</td>\n      <td>195121</td>\n      <td>50254.0</td>\n    </tr>\n    <tr>\n      <th>2</th>\n      <td>Barbour County</td>\n      <td>AL</td>\n      <td>26932</td>\n      <td>32964.0</td>\n    </tr>\n    <tr>\n      <th>3</th>\n      <td>Bibb County</td>\n      <td>AL</td>\n      <td>22604</td>\n      <td>38678.0</td>\n    </tr>\n    <tr>\n      <th>4</th>\n      <td>Blount County</td>\n      <td>AL</td>\n      <td>57710</td>\n      <td>45813.0</td>\n    </tr>\n  </tbody>\n</table>\n</div>"
     },
     "metadata": {},
     "execution_count": 21
    }
   ],
   "source": [
    "median_inc = median_inc[['County',\"State Code\", 'Population',\"Median household income\"]]\n",
    "median_inc.head()"
   ]
  },
  {
   "cell_type": "code",
   "execution_count": 22,
   "metadata": {},
   "outputs": [],
   "source": [
    "median_inc = median_inc.rename(columns={\"State Code\": \"State\"})"
   ]
  },
  {
   "cell_type": "code",
   "execution_count": 23,
   "metadata": {},
   "outputs": [],
   "source": [
    "median_inc_newData = pd.DataFrame({\"Median household income\":median_inc.groupby([\"State\",\"County\"])[\"Median household income\"].mean(),\n",
    "                              \"Population\":median_inc.groupby([\"State\",\"County\"])[\"Population\"].sum()})"
   ]
  },
  {
   "cell_type": "code",
   "execution_count": 24,
   "metadata": {},
   "outputs": [
    {
     "output_type": "execute_result",
     "data": {
      "text/plain": "                                  Median household income  Population\nState County                                                         \nAK    Aleutians East Borough                      61518.0        3304\n      Aleutians West Census Area                  84306.0        5684\n      Anchorage Municipality                      78326.0      299107\n      Bethel Census Area                          51012.0       17776\n      Bristol Bay Borough                         79750.0         970",
      "text/html": "<div>\n<style scoped>\n    .dataframe tbody tr th:only-of-type {\n        vertical-align: middle;\n    }\n\n    .dataframe tbody tr th {\n        vertical-align: top;\n    }\n\n    .dataframe thead th {\n        text-align: right;\n    }\n</style>\n<table border=\"1\" class=\"dataframe\">\n  <thead>\n    <tr style=\"text-align: right;\">\n      <th></th>\n      <th></th>\n      <th>Median household income</th>\n      <th>Population</th>\n    </tr>\n    <tr>\n      <th>State</th>\n      <th>County</th>\n      <th></th>\n      <th></th>\n    </tr>\n  </thead>\n  <tbody>\n    <tr>\n      <th rowspan=\"5\" valign=\"top\">AK</th>\n      <th>Aleutians East Borough</th>\n      <td>61518.0</td>\n      <td>3304</td>\n    </tr>\n    <tr>\n      <th>Aleutians West Census Area</th>\n      <td>84306.0</td>\n      <td>5684</td>\n    </tr>\n    <tr>\n      <th>Anchorage Municipality</th>\n      <td>78326.0</td>\n      <td>299107</td>\n    </tr>\n    <tr>\n      <th>Bethel Census Area</th>\n      <td>51012.0</td>\n      <td>17776</td>\n    </tr>\n    <tr>\n      <th>Bristol Bay Borough</th>\n      <td>79750.0</td>\n      <td>970</td>\n    </tr>\n  </tbody>\n</table>\n</div>"
     },
     "metadata": {},
     "execution_count": 24
    }
   ],
   "source": [
    "median_inc_newData.head()\n"
   ]
  },
  {
   "cell_type": "code",
   "execution_count": 25,
   "metadata": {},
   "outputs": [],
   "source": [
    "mergedData = pd.merge(unemp_df_new,median_inc_newData, on=[\"State\",'County'],how=\"inner\")"
   ]
  },
  {
   "cell_type": "code",
   "execution_count": 26,
   "metadata": {},
   "outputs": [
    {
     "output_type": "execute_result",
     "data": {
      "text/plain": "                      Unemployment Rate  Median household income  Population\nState County                                                                \nAL    Autauga County           5.417284                  51281.0       55221\n      Baldwin County           5.364198                  50254.0      195121\n      Barbour County           8.460185                  32964.0       26932\n      Bibb County              7.684877                  38678.0       22604\n      Blount County            5.164506                  45813.0       57710",
      "text/html": "<div>\n<style scoped>\n    .dataframe tbody tr th:only-of-type {\n        vertical-align: middle;\n    }\n\n    .dataframe tbody tr th {\n        vertical-align: top;\n    }\n\n    .dataframe thead th {\n        text-align: right;\n    }\n</style>\n<table border=\"1\" class=\"dataframe\">\n  <thead>\n    <tr style=\"text-align: right;\">\n      <th></th>\n      <th></th>\n      <th>Unemployment Rate</th>\n      <th>Median household income</th>\n      <th>Population</th>\n    </tr>\n    <tr>\n      <th>State</th>\n      <th>County</th>\n      <th></th>\n      <th></th>\n      <th></th>\n    </tr>\n  </thead>\n  <tbody>\n    <tr>\n      <th rowspan=\"5\" valign=\"top\">AL</th>\n      <th>Autauga County</th>\n      <td>5.417284</td>\n      <td>51281.0</td>\n      <td>55221</td>\n    </tr>\n    <tr>\n      <th>Baldwin County</th>\n      <td>5.364198</td>\n      <td>50254.0</td>\n      <td>195121</td>\n    </tr>\n    <tr>\n      <th>Barbour County</th>\n      <td>8.460185</td>\n      <td>32964.0</td>\n      <td>26932</td>\n    </tr>\n    <tr>\n      <th>Bibb County</th>\n      <td>7.684877</td>\n      <td>38678.0</td>\n      <td>22604</td>\n    </tr>\n    <tr>\n      <th>Blount County</th>\n      <td>5.164506</td>\n      <td>45813.0</td>\n      <td>57710</td>\n    </tr>\n  </tbody>\n</table>\n</div>"
     },
     "metadata": {},
     "execution_count": 26
    }
   ],
   "source": [
    "mergedData.head()\n"
   ]
  },
  {
   "cell_type": "code",
   "execution_count": 27,
   "metadata": {},
   "outputs": [],
   "source": [
    "newMerge = pd.merge(mergedData,new_df2, on=['State','County'], how=\"inner\")"
   ]
  },
  {
   "cell_type": "code",
   "execution_count": 28,
   "metadata": {},
   "outputs": [
    {
     "output_type": "execute_result",
     "data": {
      "text/plain": "                      Unemployment Rate  Median household income  Population  \\\nState County                                                                   \nAL    Autauga County           5.417284                  51281.0       55221   \n      Baldwin County           5.364198                  50254.0      195121   \n      Barbour County           8.460185                  32964.0       26932   \n      Bibb County              7.684877                  38678.0       22604   \n      Blount County            5.164506                  45813.0       57710   \n\n                      Diversity-Index  Black  American Indian  Asian  \\\nState County                                                           \nAL    Autauga County         0.388898   18.4              0.5    1.1   \n      Baldwin County         0.297942    9.5              0.7    0.9   \n      Barbour County         0.556605   47.6              0.6    0.5   \n      Bibb County            0.394100   22.1              0.4    0.2   \n      Blount County          0.221056    1.8              0.6    0.3   \n\n                      Native Hawaiian  Two or More Races  Hispanic/ Latino  \\\nState County                                                                 \nAL    Autauga County              0.1                1.7               2.7   \n      Baldwin County              0.1                1.5               4.6   \n      Barbour County              0.2                0.9               4.8   \n      Bibb County                 0.1                0.9               2.1   \n      Blount County               0.1                1.1               8.7   \n\n                      White  \nState County                 \nAL    Autauga County   75.9  \n      Baldwin County   83.1  \n      Barbour County   46.3  \n      Bibb County      74.6  \n      Blount County    87.8  ",
      "text/html": "<div>\n<style scoped>\n    .dataframe tbody tr th:only-of-type {\n        vertical-align: middle;\n    }\n\n    .dataframe tbody tr th {\n        vertical-align: top;\n    }\n\n    .dataframe thead th {\n        text-align: right;\n    }\n</style>\n<table border=\"1\" class=\"dataframe\">\n  <thead>\n    <tr style=\"text-align: right;\">\n      <th></th>\n      <th></th>\n      <th>Unemployment Rate</th>\n      <th>Median household income</th>\n      <th>Population</th>\n      <th>Diversity-Index</th>\n      <th>Black</th>\n      <th>American Indian</th>\n      <th>Asian</th>\n      <th>Native Hawaiian</th>\n      <th>Two or More Races</th>\n      <th>Hispanic/ Latino</th>\n      <th>White</th>\n    </tr>\n    <tr>\n      <th>State</th>\n      <th>County</th>\n      <th></th>\n      <th></th>\n      <th></th>\n      <th></th>\n      <th></th>\n      <th></th>\n      <th></th>\n      <th></th>\n      <th></th>\n      <th></th>\n      <th></th>\n    </tr>\n  </thead>\n  <tbody>\n    <tr>\n      <th rowspan=\"5\" valign=\"top\">AL</th>\n      <th>Autauga County</th>\n      <td>5.417284</td>\n      <td>51281.0</td>\n      <td>55221</td>\n      <td>0.388898</td>\n      <td>18.4</td>\n      <td>0.5</td>\n      <td>1.1</td>\n      <td>0.1</td>\n      <td>1.7</td>\n      <td>2.7</td>\n      <td>75.9</td>\n    </tr>\n    <tr>\n      <th>Baldwin County</th>\n      <td>5.364198</td>\n      <td>50254.0</td>\n      <td>195121</td>\n      <td>0.297942</td>\n      <td>9.5</td>\n      <td>0.7</td>\n      <td>0.9</td>\n      <td>0.1</td>\n      <td>1.5</td>\n      <td>4.6</td>\n      <td>83.1</td>\n    </tr>\n    <tr>\n      <th>Barbour County</th>\n      <td>8.460185</td>\n      <td>32964.0</td>\n      <td>26932</td>\n      <td>0.556605</td>\n      <td>47.6</td>\n      <td>0.6</td>\n      <td>0.5</td>\n      <td>0.2</td>\n      <td>0.9</td>\n      <td>4.8</td>\n      <td>46.3</td>\n    </tr>\n    <tr>\n      <th>Bibb County</th>\n      <td>7.684877</td>\n      <td>38678.0</td>\n      <td>22604</td>\n      <td>0.394100</td>\n      <td>22.1</td>\n      <td>0.4</td>\n      <td>0.2</td>\n      <td>0.1</td>\n      <td>0.9</td>\n      <td>2.1</td>\n      <td>74.6</td>\n    </tr>\n    <tr>\n      <th>Blount County</th>\n      <td>5.164506</td>\n      <td>45813.0</td>\n      <td>57710</td>\n      <td>0.221056</td>\n      <td>1.8</td>\n      <td>0.6</td>\n      <td>0.3</td>\n      <td>0.1</td>\n      <td>1.1</td>\n      <td>8.7</td>\n      <td>87.8</td>\n    </tr>\n  </tbody>\n</table>\n</div>"
     },
     "metadata": {},
     "execution_count": 28
    }
   ],
   "source": [
    "newMerge.head()"
   ]
  },
  {
   "cell_type": "code",
   "execution_count": 29,
   "metadata": {},
   "outputs": [],
   "source": [
    "newMerge1 = newMerge.reset_index()"
   ]
  },
  {
   "cell_type": "code",
   "execution_count": 30,
   "metadata": {},
   "outputs": [
    {
     "output_type": "execute_result",
     "data": {
      "text/plain": "  State          County  Unemployment Rate  Median household income  \\\n0    AL  Autauga County           5.417284                  51281.0   \n1    AL  Baldwin County           5.364198                  50254.0   \n2    AL  Barbour County           8.460185                  32964.0   \n3    AL     Bibb County           7.684877                  38678.0   \n4    AL   Blount County           5.164506                  45813.0   \n\n   Population  Diversity-Index  Black  American Indian  Asian  \\\n0       55221         0.388898   18.4              0.5    1.1   \n1      195121         0.297942    9.5              0.7    0.9   \n2       26932         0.556605   47.6              0.6    0.5   \n3       22604         0.394100   22.1              0.4    0.2   \n4       57710         0.221056    1.8              0.6    0.3   \n\n   Native Hawaiian  Two or More Races  Hispanic/ Latino  White  \n0              0.1                1.7               2.7   75.9  \n1              0.1                1.5               4.6   83.1  \n2              0.2                0.9               4.8   46.3  \n3              0.1                0.9               2.1   74.6  \n4              0.1                1.1               8.7   87.8  ",
      "text/html": "<div>\n<style scoped>\n    .dataframe tbody tr th:only-of-type {\n        vertical-align: middle;\n    }\n\n    .dataframe tbody tr th {\n        vertical-align: top;\n    }\n\n    .dataframe thead th {\n        text-align: right;\n    }\n</style>\n<table border=\"1\" class=\"dataframe\">\n  <thead>\n    <tr style=\"text-align: right;\">\n      <th></th>\n      <th>State</th>\n      <th>County</th>\n      <th>Unemployment Rate</th>\n      <th>Median household income</th>\n      <th>Population</th>\n      <th>Diversity-Index</th>\n      <th>Black</th>\n      <th>American Indian</th>\n      <th>Asian</th>\n      <th>Native Hawaiian</th>\n      <th>Two or More Races</th>\n      <th>Hispanic/ Latino</th>\n      <th>White</th>\n    </tr>\n  </thead>\n  <tbody>\n    <tr>\n      <th>0</th>\n      <td>AL</td>\n      <td>Autauga County</td>\n      <td>5.417284</td>\n      <td>51281.0</td>\n      <td>55221</td>\n      <td>0.388898</td>\n      <td>18.4</td>\n      <td>0.5</td>\n      <td>1.1</td>\n      <td>0.1</td>\n      <td>1.7</td>\n      <td>2.7</td>\n      <td>75.9</td>\n    </tr>\n    <tr>\n      <th>1</th>\n      <td>AL</td>\n      <td>Baldwin County</td>\n      <td>5.364198</td>\n      <td>50254.0</td>\n      <td>195121</td>\n      <td>0.297942</td>\n      <td>9.5</td>\n      <td>0.7</td>\n      <td>0.9</td>\n      <td>0.1</td>\n      <td>1.5</td>\n      <td>4.6</td>\n      <td>83.1</td>\n    </tr>\n    <tr>\n      <th>2</th>\n      <td>AL</td>\n      <td>Barbour County</td>\n      <td>8.460185</td>\n      <td>32964.0</td>\n      <td>26932</td>\n      <td>0.556605</td>\n      <td>47.6</td>\n      <td>0.6</td>\n      <td>0.5</td>\n      <td>0.2</td>\n      <td>0.9</td>\n      <td>4.8</td>\n      <td>46.3</td>\n    </tr>\n    <tr>\n      <th>3</th>\n      <td>AL</td>\n      <td>Bibb County</td>\n      <td>7.684877</td>\n      <td>38678.0</td>\n      <td>22604</td>\n      <td>0.394100</td>\n      <td>22.1</td>\n      <td>0.4</td>\n      <td>0.2</td>\n      <td>0.1</td>\n      <td>0.9</td>\n      <td>2.1</td>\n      <td>74.6</td>\n    </tr>\n    <tr>\n      <th>4</th>\n      <td>AL</td>\n      <td>Blount County</td>\n      <td>5.164506</td>\n      <td>45813.0</td>\n      <td>57710</td>\n      <td>0.221056</td>\n      <td>1.8</td>\n      <td>0.6</td>\n      <td>0.3</td>\n      <td>0.1</td>\n      <td>1.1</td>\n      <td>8.7</td>\n      <td>87.8</td>\n    </tr>\n  </tbody>\n</table>\n</div>"
     },
     "metadata": {},
     "execution_count": 30
    }
   ],
   "source": [
    "newMerge1.head()"
   ]
  },
  {
   "cell_type": "code",
   "execution_count": 31,
   "metadata": {},
   "outputs": [
    {
     "output_type": "execute_result",
     "data": {
      "text/plain": "  State          County  Median household income  Unemployment Rate  \\\n0    AL  Autauga County                  51281.0           5.417284   \n1    AL  Baldwin County                  50254.0           5.364198   \n2    AL  Barbour County                  32964.0           8.460185   \n3    AL     Bibb County                  38678.0           7.684877   \n4    AL   Blount County                  45813.0           5.164506   \n\n   Diversity-Index  White  Black  Hispanic/ Latino  Asian  American Indian  \\\n0         0.388898   75.9   18.4               2.7    1.1              0.5   \n1         0.297942   83.1    9.5               4.6    0.9              0.7   \n2         0.556605   46.3   47.6               4.8    0.5              0.6   \n3         0.394100   74.6   22.1               2.1    0.2              0.4   \n4         0.221056   87.8    1.8               8.7    0.3              0.6   \n\n   Native Hawaiian  Two or More Races  \n0              0.1                1.7  \n1              0.1                1.5  \n2              0.2                0.9  \n3              0.1                0.9  \n4              0.1                1.1  ",
      "text/html": "<div>\n<style scoped>\n    .dataframe tbody tr th:only-of-type {\n        vertical-align: middle;\n    }\n\n    .dataframe tbody tr th {\n        vertical-align: top;\n    }\n\n    .dataframe thead th {\n        text-align: right;\n    }\n</style>\n<table border=\"1\" class=\"dataframe\">\n  <thead>\n    <tr style=\"text-align: right;\">\n      <th></th>\n      <th>State</th>\n      <th>County</th>\n      <th>Median household income</th>\n      <th>Unemployment Rate</th>\n      <th>Diversity-Index</th>\n      <th>White</th>\n      <th>Black</th>\n      <th>Hispanic/ Latino</th>\n      <th>Asian</th>\n      <th>American Indian</th>\n      <th>Native Hawaiian</th>\n      <th>Two or More Races</th>\n    </tr>\n  </thead>\n  <tbody>\n    <tr>\n      <th>0</th>\n      <td>AL</td>\n      <td>Autauga County</td>\n      <td>51281.0</td>\n      <td>5.417284</td>\n      <td>0.388898</td>\n      <td>75.9</td>\n      <td>18.4</td>\n      <td>2.7</td>\n      <td>1.1</td>\n      <td>0.5</td>\n      <td>0.1</td>\n      <td>1.7</td>\n    </tr>\n    <tr>\n      <th>1</th>\n      <td>AL</td>\n      <td>Baldwin County</td>\n      <td>50254.0</td>\n      <td>5.364198</td>\n      <td>0.297942</td>\n      <td>83.1</td>\n      <td>9.5</td>\n      <td>4.6</td>\n      <td>0.9</td>\n      <td>0.7</td>\n      <td>0.1</td>\n      <td>1.5</td>\n    </tr>\n    <tr>\n      <th>2</th>\n      <td>AL</td>\n      <td>Barbour County</td>\n      <td>32964.0</td>\n      <td>8.460185</td>\n      <td>0.556605</td>\n      <td>46.3</td>\n      <td>47.6</td>\n      <td>4.8</td>\n      <td>0.5</td>\n      <td>0.6</td>\n      <td>0.2</td>\n      <td>0.9</td>\n    </tr>\n    <tr>\n      <th>3</th>\n      <td>AL</td>\n      <td>Bibb County</td>\n      <td>38678.0</td>\n      <td>7.684877</td>\n      <td>0.394100</td>\n      <td>74.6</td>\n      <td>22.1</td>\n      <td>2.1</td>\n      <td>0.2</td>\n      <td>0.4</td>\n      <td>0.1</td>\n      <td>0.9</td>\n    </tr>\n    <tr>\n      <th>4</th>\n      <td>AL</td>\n      <td>Blount County</td>\n      <td>45813.0</td>\n      <td>5.164506</td>\n      <td>0.221056</td>\n      <td>87.8</td>\n      <td>1.8</td>\n      <td>8.7</td>\n      <td>0.3</td>\n      <td>0.6</td>\n      <td>0.1</td>\n      <td>1.1</td>\n    </tr>\n  </tbody>\n</table>\n</div>"
     },
     "metadata": {},
     "execution_count": 31
    }
   ],
   "source": [
    "newMerge1 = newMerge1[[\"State\",\"County\",\"Median household income\",\"Unemployment Rate\",\n",
    "                            \"Diversity-Index\",\"White\",\"Black\",\"Hispanic/ Latino\",\"Asian\",\"American Indian\",\n",
    "                            \"Native Hawaiian\",\"Two or More Races\"]]\n",
    "newMerge1.head()                            "
   ]
  },
  {
   "cell_type": "code",
   "execution_count": 32,
   "metadata": {},
   "outputs": [
    {
     "output_type": "execute_result",
     "data": {
      "text/plain": "     State             County  Median household income  Unemployment Rate  \\\n0       AL     Autauga County                  51281.0           5.417284   \n1       AL     Baldwin County                  50254.0           5.364198   \n2       AL     Barbour County                  32964.0           8.460185   \n3       AL        Bibb County                  38678.0           7.684877   \n4       AL      Blount County                  45813.0           5.164506   \n...    ...                ...                      ...                ...   \n2801    WY  Sweetwater County                  69022.0           4.749691   \n2802    WY       Teton County                  75325.0           3.645062   \n2803    WY       Uinta County                  56569.0           5.538580   \n2804    WY    Washakie County                  47652.0           4.995062   \n2805    WY      Weston County                  57738.0           4.448765   \n\n      Diversity-Index  White  Black  Hispanic/ Latino  Asian  American Indian  \\\n0            0.388898   75.9   18.4               2.7    1.1              0.5   \n1            0.297942   83.1    9.5               4.6    0.9              0.7   \n2            0.556605   46.3   47.6               4.8    0.5              0.6   \n3            0.394100   74.6   22.1               2.1    0.2              0.4   \n4            0.221056   87.8    1.8               8.7    0.3              0.6   \n...               ...    ...    ...               ...    ...              ...   \n2801         0.340296   79.6    1.7              15.9    0.9              1.2   \n2802         0.325230   80.7    1.5              15.1    1.3              1.0   \n2803         0.225552   87.5    0.8               9.1    0.4              1.3   \n2804         0.296868   82.6    0.8              14.2    0.7              1.7   \n2805         0.147697   92.2    0.6               3.8    0.3              1.7   \n\n      Native Hawaiian  Two or More Races  \n0                 0.1                1.7  \n1                 0.1                1.5  \n2                 0.2                0.9  \n3                 0.1                0.9  \n4                 0.1                1.1  \n...               ...                ...  \n2801              0.2                1.7  \n2802              0.1                1.5  \n2803              0.2                1.7  \n2804              0.1                1.7  \n2805              0.0                2.1  \n\n[2806 rows x 12 columns]",
      "text/html": "<div>\n<style scoped>\n    .dataframe tbody tr th:only-of-type {\n        vertical-align: middle;\n    }\n\n    .dataframe tbody tr th {\n        vertical-align: top;\n    }\n\n    .dataframe thead th {\n        text-align: right;\n    }\n</style>\n<table border=\"1\" class=\"dataframe\">\n  <thead>\n    <tr style=\"text-align: right;\">\n      <th></th>\n      <th>State</th>\n      <th>County</th>\n      <th>Median household income</th>\n      <th>Unemployment Rate</th>\n      <th>Diversity-Index</th>\n      <th>White</th>\n      <th>Black</th>\n      <th>Hispanic/ Latino</th>\n      <th>Asian</th>\n      <th>American Indian</th>\n      <th>Native Hawaiian</th>\n      <th>Two or More Races</th>\n    </tr>\n  </thead>\n  <tbody>\n    <tr>\n      <th>0</th>\n      <td>AL</td>\n      <td>Autauga County</td>\n      <td>51281.0</td>\n      <td>5.417284</td>\n      <td>0.388898</td>\n      <td>75.9</td>\n      <td>18.4</td>\n      <td>2.7</td>\n      <td>1.1</td>\n      <td>0.5</td>\n      <td>0.1</td>\n      <td>1.7</td>\n    </tr>\n    <tr>\n      <th>1</th>\n      <td>AL</td>\n      <td>Baldwin County</td>\n      <td>50254.0</td>\n      <td>5.364198</td>\n      <td>0.297942</td>\n      <td>83.1</td>\n      <td>9.5</td>\n      <td>4.6</td>\n      <td>0.9</td>\n      <td>0.7</td>\n      <td>0.1</td>\n      <td>1.5</td>\n    </tr>\n    <tr>\n      <th>2</th>\n      <td>AL</td>\n      <td>Barbour County</td>\n      <td>32964.0</td>\n      <td>8.460185</td>\n      <td>0.556605</td>\n      <td>46.3</td>\n      <td>47.6</td>\n      <td>4.8</td>\n      <td>0.5</td>\n      <td>0.6</td>\n      <td>0.2</td>\n      <td>0.9</td>\n    </tr>\n    <tr>\n      <th>3</th>\n      <td>AL</td>\n      <td>Bibb County</td>\n      <td>38678.0</td>\n      <td>7.684877</td>\n      <td>0.394100</td>\n      <td>74.6</td>\n      <td>22.1</td>\n      <td>2.1</td>\n      <td>0.2</td>\n      <td>0.4</td>\n      <td>0.1</td>\n      <td>0.9</td>\n    </tr>\n    <tr>\n      <th>4</th>\n      <td>AL</td>\n      <td>Blount County</td>\n      <td>45813.0</td>\n      <td>5.164506</td>\n      <td>0.221056</td>\n      <td>87.8</td>\n      <td>1.8</td>\n      <td>8.7</td>\n      <td>0.3</td>\n      <td>0.6</td>\n      <td>0.1</td>\n      <td>1.1</td>\n    </tr>\n    <tr>\n      <th>...</th>\n      <td>...</td>\n      <td>...</td>\n      <td>...</td>\n      <td>...</td>\n      <td>...</td>\n      <td>...</td>\n      <td>...</td>\n      <td>...</td>\n      <td>...</td>\n      <td>...</td>\n      <td>...</td>\n      <td>...</td>\n    </tr>\n    <tr>\n      <th>2801</th>\n      <td>WY</td>\n      <td>Sweetwater County</td>\n      <td>69022.0</td>\n      <td>4.749691</td>\n      <td>0.340296</td>\n      <td>79.6</td>\n      <td>1.7</td>\n      <td>15.9</td>\n      <td>0.9</td>\n      <td>1.2</td>\n      <td>0.2</td>\n      <td>1.7</td>\n    </tr>\n    <tr>\n      <th>2802</th>\n      <td>WY</td>\n      <td>Teton County</td>\n      <td>75325.0</td>\n      <td>3.645062</td>\n      <td>0.325230</td>\n      <td>80.7</td>\n      <td>1.5</td>\n      <td>15.1</td>\n      <td>1.3</td>\n      <td>1.0</td>\n      <td>0.1</td>\n      <td>1.5</td>\n    </tr>\n    <tr>\n      <th>2803</th>\n      <td>WY</td>\n      <td>Uinta County</td>\n      <td>56569.0</td>\n      <td>5.538580</td>\n      <td>0.225552</td>\n      <td>87.5</td>\n      <td>0.8</td>\n      <td>9.1</td>\n      <td>0.4</td>\n      <td>1.3</td>\n      <td>0.2</td>\n      <td>1.7</td>\n    </tr>\n    <tr>\n      <th>2804</th>\n      <td>WY</td>\n      <td>Washakie County</td>\n      <td>47652.0</td>\n      <td>4.995062</td>\n      <td>0.296868</td>\n      <td>82.6</td>\n      <td>0.8</td>\n      <td>14.2</td>\n      <td>0.7</td>\n      <td>1.7</td>\n      <td>0.1</td>\n      <td>1.7</td>\n    </tr>\n    <tr>\n      <th>2805</th>\n      <td>WY</td>\n      <td>Weston County</td>\n      <td>57738.0</td>\n      <td>4.448765</td>\n      <td>0.147697</td>\n      <td>92.2</td>\n      <td>0.6</td>\n      <td>3.8</td>\n      <td>0.3</td>\n      <td>1.7</td>\n      <td>0.0</td>\n      <td>2.1</td>\n    </tr>\n  </tbody>\n</table>\n<p>2806 rows × 12 columns</p>\n</div>"
     },
     "metadata": {},
     "execution_count": 32
    }
   ],
   "source": [
    "newMerge1"
   ]
  },
  {
   "cell_type": "code",
   "execution_count": 50,
   "metadata": {},
   "outputs": [
    {
     "ename": "ModuleNotFoundError",
     "evalue": "No module named 'pymysql'",
     "output_type": "error",
     "traceback": [
      "\u001b[0;31m---------------------------------------------------------------------------\u001b[0m",
      "\u001b[0;31mModuleNotFoundError\u001b[0m                       Traceback (most recent call last)",
      "\u001b[0;32m<ipython-input-50-64315ba4597f>\u001b[0m in \u001b[0;36m<module>\u001b[0;34m\u001b[0m\n\u001b[1;32m      1\u001b[0m \u001b[0;31m#Exportting to SQL#\u001b[0m\u001b[0;34m\u001b[0m\u001b[0;34m\u001b[0m\u001b[0;34m\u001b[0m\u001b[0m\n\u001b[1;32m      2\u001b[0m \u001b[0;32mfrom\u001b[0m \u001b[0msqlalchemy\u001b[0m \u001b[0;32mimport\u001b[0m \u001b[0mcreate_engine\u001b[0m\u001b[0;34m\u001b[0m\u001b[0;34m\u001b[0m\u001b[0m\n\u001b[0;32m----> 3\u001b[0;31m \u001b[0;32mimport\u001b[0m \u001b[0mpymysql\u001b[0m\u001b[0;34m\u001b[0m\u001b[0;34m\u001b[0m\u001b[0m\n\u001b[0m\u001b[1;32m      4\u001b[0m \u001b[0mpymysql\u001b[0m\u001b[0;34m.\u001b[0m\u001b[0minstall_as_MySQLdb\u001b[0m\u001b[0;34m(\u001b[0m\u001b[0;34m)\u001b[0m\u001b[0;34m\u001b[0m\u001b[0;34m\u001b[0m\u001b[0m\n",
      "\u001b[0;31mModuleNotFoundError\u001b[0m: No module named 'pymysql'"
     ]
    }
   ],
   "source": []
  },
  {
   "cell_type": "code",
   "execution_count": 33,
   "metadata": {},
   "outputs": [],
   "source": [
    "from io import StringIO\n"
   ]
  },
  {
   "cell_type": "code",
   "execution_count": 34,
   "metadata": {},
   "outputs": [],
   "source": [
    "import boto3\n",
    "# Let's use Amazon S3\n",
    "s3 = boto3.resource('s3')"
   ]
  },
  {
   "cell_type": "code",
   "execution_count": 35,
   "metadata": {
    "tags": []
   },
   "outputs": [
    {
     "output_type": "stream",
     "name": "stdout",
     "text": "employee99\ntestdata99\numemppoyment\n"
    }
   ],
   "source": [
    "# Print out bucket names\n",
    "for bucket in s3.buckets.all():\n",
    "    print(bucket.name)"
   ]
  },
  {
   "cell_type": "code",
   "execution_count": 36,
   "metadata": {},
   "outputs": [
    {
     "output_type": "execute_result",
     "data": {
      "text/plain": "     State             County  Median household income  Unemployment Rate  \\\n0       AL     Autauga County                  51281.0           5.417284   \n1       AL     Baldwin County                  50254.0           5.364198   \n2       AL     Barbour County                  32964.0           8.460185   \n3       AL        Bibb County                  38678.0           7.684877   \n4       AL      Blount County                  45813.0           5.164506   \n...    ...                ...                      ...                ...   \n2801    WY  Sweetwater County                  69022.0           4.749691   \n2802    WY       Teton County                  75325.0           3.645062   \n2803    WY       Uinta County                  56569.0           5.538580   \n2804    WY    Washakie County                  47652.0           4.995062   \n2805    WY      Weston County                  57738.0           4.448765   \n\n      Diversity-Index  White  Black  Hispanic/ Latino  Asian  American Indian  \\\n0            0.388898   75.9   18.4               2.7    1.1              0.5   \n1            0.297942   83.1    9.5               4.6    0.9              0.7   \n2            0.556605   46.3   47.6               4.8    0.5              0.6   \n3            0.394100   74.6   22.1               2.1    0.2              0.4   \n4            0.221056   87.8    1.8               8.7    0.3              0.6   \n...               ...    ...    ...               ...    ...              ...   \n2801         0.340296   79.6    1.7              15.9    0.9              1.2   \n2802         0.325230   80.7    1.5              15.1    1.3              1.0   \n2803         0.225552   87.5    0.8               9.1    0.4              1.3   \n2804         0.296868   82.6    0.8              14.2    0.7              1.7   \n2805         0.147697   92.2    0.6               3.8    0.3              1.7   \n\n      Native Hawaiian  Two or More Races  \n0                 0.1                1.7  \n1                 0.1                1.5  \n2                 0.2                0.9  \n3                 0.1                0.9  \n4                 0.1                1.1  \n...               ...                ...  \n2801              0.2                1.7  \n2802              0.1                1.5  \n2803              0.2                1.7  \n2804              0.1                1.7  \n2805              0.0                2.1  \n\n[2806 rows x 12 columns]",
      "text/html": "<div>\n<style scoped>\n    .dataframe tbody tr th:only-of-type {\n        vertical-align: middle;\n    }\n\n    .dataframe tbody tr th {\n        vertical-align: top;\n    }\n\n    .dataframe thead th {\n        text-align: right;\n    }\n</style>\n<table border=\"1\" class=\"dataframe\">\n  <thead>\n    <tr style=\"text-align: right;\">\n      <th></th>\n      <th>State</th>\n      <th>County</th>\n      <th>Median household income</th>\n      <th>Unemployment Rate</th>\n      <th>Diversity-Index</th>\n      <th>White</th>\n      <th>Black</th>\n      <th>Hispanic/ Latino</th>\n      <th>Asian</th>\n      <th>American Indian</th>\n      <th>Native Hawaiian</th>\n      <th>Two or More Races</th>\n    </tr>\n  </thead>\n  <tbody>\n    <tr>\n      <th>0</th>\n      <td>AL</td>\n      <td>Autauga County</td>\n      <td>51281.0</td>\n      <td>5.417284</td>\n      <td>0.388898</td>\n      <td>75.9</td>\n      <td>18.4</td>\n      <td>2.7</td>\n      <td>1.1</td>\n      <td>0.5</td>\n      <td>0.1</td>\n      <td>1.7</td>\n    </tr>\n    <tr>\n      <th>1</th>\n      <td>AL</td>\n      <td>Baldwin County</td>\n      <td>50254.0</td>\n      <td>5.364198</td>\n      <td>0.297942</td>\n      <td>83.1</td>\n      <td>9.5</td>\n      <td>4.6</td>\n      <td>0.9</td>\n      <td>0.7</td>\n      <td>0.1</td>\n      <td>1.5</td>\n    </tr>\n    <tr>\n      <th>2</th>\n      <td>AL</td>\n      <td>Barbour County</td>\n      <td>32964.0</td>\n      <td>8.460185</td>\n      <td>0.556605</td>\n      <td>46.3</td>\n      <td>47.6</td>\n      <td>4.8</td>\n      <td>0.5</td>\n      <td>0.6</td>\n      <td>0.2</td>\n      <td>0.9</td>\n    </tr>\n    <tr>\n      <th>3</th>\n      <td>AL</td>\n      <td>Bibb County</td>\n      <td>38678.0</td>\n      <td>7.684877</td>\n      <td>0.394100</td>\n      <td>74.6</td>\n      <td>22.1</td>\n      <td>2.1</td>\n      <td>0.2</td>\n      <td>0.4</td>\n      <td>0.1</td>\n      <td>0.9</td>\n    </tr>\n    <tr>\n      <th>4</th>\n      <td>AL</td>\n      <td>Blount County</td>\n      <td>45813.0</td>\n      <td>5.164506</td>\n      <td>0.221056</td>\n      <td>87.8</td>\n      <td>1.8</td>\n      <td>8.7</td>\n      <td>0.3</td>\n      <td>0.6</td>\n      <td>0.1</td>\n      <td>1.1</td>\n    </tr>\n    <tr>\n      <th>...</th>\n      <td>...</td>\n      <td>...</td>\n      <td>...</td>\n      <td>...</td>\n      <td>...</td>\n      <td>...</td>\n      <td>...</td>\n      <td>...</td>\n      <td>...</td>\n      <td>...</td>\n      <td>...</td>\n      <td>...</td>\n    </tr>\n    <tr>\n      <th>2801</th>\n      <td>WY</td>\n      <td>Sweetwater County</td>\n      <td>69022.0</td>\n      <td>4.749691</td>\n      <td>0.340296</td>\n      <td>79.6</td>\n      <td>1.7</td>\n      <td>15.9</td>\n      <td>0.9</td>\n      <td>1.2</td>\n      <td>0.2</td>\n      <td>1.7</td>\n    </tr>\n    <tr>\n      <th>2802</th>\n      <td>WY</td>\n      <td>Teton County</td>\n      <td>75325.0</td>\n      <td>3.645062</td>\n      <td>0.325230</td>\n      <td>80.7</td>\n      <td>1.5</td>\n      <td>15.1</td>\n      <td>1.3</td>\n      <td>1.0</td>\n      <td>0.1</td>\n      <td>1.5</td>\n    </tr>\n    <tr>\n      <th>2803</th>\n      <td>WY</td>\n      <td>Uinta County</td>\n      <td>56569.0</td>\n      <td>5.538580</td>\n      <td>0.225552</td>\n      <td>87.5</td>\n      <td>0.8</td>\n      <td>9.1</td>\n      <td>0.4</td>\n      <td>1.3</td>\n      <td>0.2</td>\n      <td>1.7</td>\n    </tr>\n    <tr>\n      <th>2804</th>\n      <td>WY</td>\n      <td>Washakie County</td>\n      <td>47652.0</td>\n      <td>4.995062</td>\n      <td>0.296868</td>\n      <td>82.6</td>\n      <td>0.8</td>\n      <td>14.2</td>\n      <td>0.7</td>\n      <td>1.7</td>\n      <td>0.1</td>\n      <td>1.7</td>\n    </tr>\n    <tr>\n      <th>2805</th>\n      <td>WY</td>\n      <td>Weston County</td>\n      <td>57738.0</td>\n      <td>4.448765</td>\n      <td>0.147697</td>\n      <td>92.2</td>\n      <td>0.6</td>\n      <td>3.8</td>\n      <td>0.3</td>\n      <td>1.7</td>\n      <td>0.0</td>\n      <td>2.1</td>\n    </tr>\n  </tbody>\n</table>\n<p>2806 rows × 12 columns</p>\n</div>"
     },
     "metadata": {},
     "execution_count": 36
    }
   ],
   "source": [
    "newMerge1"
   ]
  },
  {
   "cell_type": "code",
   "execution_count": 37,
   "metadata": {},
   "outputs": [],
   "source": [
    "newMerge1.to_csv('/Users/ankbohra/Desktop/ETL-PROJECT/newMerge1')\n"
   ]
  },
  {
   "cell_type": "code",
   "execution_count": 38,
   "metadata": {},
   "outputs": [],
   "source": [
    "s3_resource = boto3.resource('s3')"
   ]
  },
  {
   "cell_type": "code",
   "execution_count": 39,
   "metadata": {
    "tags": []
   },
   "outputs": [
    {
     "output_type": "stream",
     "name": "stdout",
     "text": "employee99\ntestdata99\numemppoyment\n"
    }
   ],
   "source": [
    "# Print out bucket names\n",
    "for bucket in s3.buckets.all():\n",
    "    print(bucket.name)"
   ]
  },
  {
   "cell_type": "code",
   "execution_count": 40,
   "metadata": {},
   "outputs": [],
   "source": [
    "datauuuu = open('/Users/ankbohra/Desktop/ETL-PROJECT/newMerge1', 'rb')"
   ]
  },
  {
   "cell_type": "code",
   "execution_count": 41,
   "metadata": {},
   "outputs": [
    {
     "output_type": "execute_result",
     "data": {
      "text/plain": "s3.Object(bucket_name='umemppoyment', key='newMerge1')"
     },
     "metadata": {},
     "execution_count": 41
    }
   ],
   "source": [
    "s3_resource.Bucket('umemppoyment').put_object(Key='newMerge1', Body=datauuuu)"
   ]
  },
  {
   "cell_type": "code",
   "execution_count": null,
   "metadata": {},
   "outputs": [],
   "source": []
  }
 ],
 "metadata": {
  "kernelspec": {
   "display_name": "Python 3",
   "language": "python",
   "name": "python3"
  },
  "language_info": {
   "codemirror_mode": {
    "name": "ipython",
    "version": 3
   },
   "file_extension": ".py",
   "mimetype": "text/x-python",
   "name": "python",
   "nbconvert_exporter": "python",
   "pygments_lexer": "ipython3",
   "version": "3.8.5-final"
  }
 },
 "nbformat": 4,
 "nbformat_minor": 2
}